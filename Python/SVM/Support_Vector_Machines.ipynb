{
 "cells": [
  {
   "cell_type": "markdown",
   "id": "1277d78f",
   "metadata": {},
   "source": [
    "# Support Vector Machines in Python\n",
    "\n",
    "**Support Vector Machines** are one of the best machine learning methods when getting the correct answer is a higher priority than understanding why you get the correct answer. Work well with relatively small datasets and they tend to work well 'out of the box', not requiring much optimization.\n",
    "\n",
    "### Objectives for this notebook:\n",
    "* Identifying and dealing with missing data\n",
    "* Downsampling data\n",
    "* Formatting the data for support vector machines\n",
    "* Building a Preliminary SVM\n",
    "* Optimizing parameters with cross validation\n",
    "* Bulding, evaluation, drawing and interpreting the final SVM"
   ]
  },
  {
   "cell_type": "markdown",
   "id": "06e06d94",
   "metadata": {},
   "source": [
    "#### Import the modules"
   ]
  },
  {
   "cell_type": "code",
   "execution_count": 1,
   "id": "d6400fea",
   "metadata": {},
   "outputs": [
    {
     "name": "stdout",
     "output_type": "stream",
     "text": [
      "/home/goncalo/Desktop/ML/SVM\r\n"
     ]
    }
   ],
   "source": [
    "import pandas as pd\n",
    "import numpy as np\n",
    "import matplotlib.pyplot as plt\n",
    "import matplotlib.colors as colors\n",
    "\n",
    "from sklearn.utils import resample # downsample the dataset\n",
    "from sklearn.model_selection import train_test_split # split data into training and testing sets\n",
    "from sklearn.preprocessing import scale #scale and center the data\n",
    "from sklearn.svm import SVC # create the support vector classifier for SVM\n",
    "from sklearn.model_selection import GridSearchCV # for cross validation\n",
    "from sklearn.metrics import confusion_matrix # create confusion matrix\n",
    "from sklearn.metrics import plot_confusion_matrix # plots confusion matrix\n",
    "from sklearn.decomposition import PCA # perform PCA on the data\n",
    "!pwd"
   ]
  },
  {
   "cell_type": "markdown",
   "id": "96a28dbc",
   "metadata": {},
   "source": [
    "**Import the dataset**\n",
    "\n",
    "https://archive.ics.uci.edu/ml/datasets/default+of+credit+card+clients"
   ]
  },
  {
   "cell_type": "code",
   "execution_count": 3,
   "id": "59fb85b1",
   "metadata": {
    "scrolled": false
   },
   "outputs": [
    {
     "name": "stdout",
     "output_type": "stream",
     "text": [
      "The columns in the data file:\n",
      "Index(['ID', 'LIMIT_BAL', 'SEX', 'EDUCATION', 'MARRIAGE', 'AGE', 'PAY_0',\n",
      "       'PAY_2', 'PAY_3', 'PAY_4', 'PAY_5', 'PAY_6', 'BILL_AMT1', 'BILL_AMT2',\n",
      "       'BILL_AMT3', 'BILL_AMT4', 'BILL_AMT5', 'BILL_AMT6', 'PAY_AMT1',\n",
      "       'PAY_AMT2', 'PAY_AMT3', 'PAY_AMT4', 'PAY_AMT5', 'PAY_AMT6',\n",
      "       'default payment next month'],\n",
      "      dtype='object')\n",
      "The sample contains 30000 sources\n"
     ]
    },
    {
     "data": {
      "text/html": [
       "<div>\n",
       "<style scoped>\n",
       "    .dataframe tbody tr th:only-of-type {\n",
       "        vertical-align: middle;\n",
       "    }\n",
       "\n",
       "    .dataframe tbody tr th {\n",
       "        vertical-align: top;\n",
       "    }\n",
       "\n",
       "    .dataframe thead th {\n",
       "        text-align: right;\n",
       "    }\n",
       "</style>\n",
       "<table border=\"1\" class=\"dataframe\">\n",
       "  <thead>\n",
       "    <tr style=\"text-align: right;\">\n",
       "      <th></th>\n",
       "      <th>ID</th>\n",
       "      <th>LIMIT_BAL</th>\n",
       "      <th>SEX</th>\n",
       "      <th>EDUCATION</th>\n",
       "      <th>MARRIAGE</th>\n",
       "      <th>AGE</th>\n",
       "      <th>PAY_0</th>\n",
       "      <th>PAY_2</th>\n",
       "      <th>PAY_3</th>\n",
       "      <th>PAY_4</th>\n",
       "      <th>...</th>\n",
       "      <th>BILL_AMT4</th>\n",
       "      <th>BILL_AMT5</th>\n",
       "      <th>BILL_AMT6</th>\n",
       "      <th>PAY_AMT1</th>\n",
       "      <th>PAY_AMT2</th>\n",
       "      <th>PAY_AMT3</th>\n",
       "      <th>PAY_AMT4</th>\n",
       "      <th>PAY_AMT5</th>\n",
       "      <th>PAY_AMT6</th>\n",
       "      <th>default payment next month</th>\n",
       "    </tr>\n",
       "  </thead>\n",
       "  <tbody>\n",
       "    <tr>\n",
       "      <th>0</th>\n",
       "      <td>1</td>\n",
       "      <td>20000</td>\n",
       "      <td>2</td>\n",
       "      <td>2</td>\n",
       "      <td>1</td>\n",
       "      <td>24</td>\n",
       "      <td>2</td>\n",
       "      <td>2</td>\n",
       "      <td>-1</td>\n",
       "      <td>-1</td>\n",
       "      <td>...</td>\n",
       "      <td>0</td>\n",
       "      <td>0</td>\n",
       "      <td>0</td>\n",
       "      <td>0</td>\n",
       "      <td>689</td>\n",
       "      <td>0</td>\n",
       "      <td>0</td>\n",
       "      <td>0</td>\n",
       "      <td>0</td>\n",
       "      <td>1</td>\n",
       "    </tr>\n",
       "    <tr>\n",
       "      <th>1</th>\n",
       "      <td>2</td>\n",
       "      <td>120000</td>\n",
       "      <td>2</td>\n",
       "      <td>2</td>\n",
       "      <td>2</td>\n",
       "      <td>26</td>\n",
       "      <td>-1</td>\n",
       "      <td>2</td>\n",
       "      <td>0</td>\n",
       "      <td>0</td>\n",
       "      <td>...</td>\n",
       "      <td>3272</td>\n",
       "      <td>3455</td>\n",
       "      <td>3261</td>\n",
       "      <td>0</td>\n",
       "      <td>1000</td>\n",
       "      <td>1000</td>\n",
       "      <td>1000</td>\n",
       "      <td>0</td>\n",
       "      <td>2000</td>\n",
       "      <td>1</td>\n",
       "    </tr>\n",
       "    <tr>\n",
       "      <th>2</th>\n",
       "      <td>3</td>\n",
       "      <td>90000</td>\n",
       "      <td>2</td>\n",
       "      <td>2</td>\n",
       "      <td>2</td>\n",
       "      <td>34</td>\n",
       "      <td>0</td>\n",
       "      <td>0</td>\n",
       "      <td>0</td>\n",
       "      <td>0</td>\n",
       "      <td>...</td>\n",
       "      <td>14331</td>\n",
       "      <td>14948</td>\n",
       "      <td>15549</td>\n",
       "      <td>1518</td>\n",
       "      <td>1500</td>\n",
       "      <td>1000</td>\n",
       "      <td>1000</td>\n",
       "      <td>1000</td>\n",
       "      <td>5000</td>\n",
       "      <td>0</td>\n",
       "    </tr>\n",
       "    <tr>\n",
       "      <th>3</th>\n",
       "      <td>4</td>\n",
       "      <td>50000</td>\n",
       "      <td>2</td>\n",
       "      <td>2</td>\n",
       "      <td>1</td>\n",
       "      <td>37</td>\n",
       "      <td>0</td>\n",
       "      <td>0</td>\n",
       "      <td>0</td>\n",
       "      <td>0</td>\n",
       "      <td>...</td>\n",
       "      <td>28314</td>\n",
       "      <td>28959</td>\n",
       "      <td>29547</td>\n",
       "      <td>2000</td>\n",
       "      <td>2019</td>\n",
       "      <td>1200</td>\n",
       "      <td>1100</td>\n",
       "      <td>1069</td>\n",
       "      <td>1000</td>\n",
       "      <td>0</td>\n",
       "    </tr>\n",
       "    <tr>\n",
       "      <th>4</th>\n",
       "      <td>5</td>\n",
       "      <td>50000</td>\n",
       "      <td>1</td>\n",
       "      <td>2</td>\n",
       "      <td>1</td>\n",
       "      <td>57</td>\n",
       "      <td>-1</td>\n",
       "      <td>0</td>\n",
       "      <td>-1</td>\n",
       "      <td>0</td>\n",
       "      <td>...</td>\n",
       "      <td>20940</td>\n",
       "      <td>19146</td>\n",
       "      <td>19131</td>\n",
       "      <td>2000</td>\n",
       "      <td>36681</td>\n",
       "      <td>10000</td>\n",
       "      <td>9000</td>\n",
       "      <td>689</td>\n",
       "      <td>679</td>\n",
       "      <td>0</td>\n",
       "    </tr>\n",
       "  </tbody>\n",
       "</table>\n",
       "<p>5 rows × 25 columns</p>\n",
       "</div>"
      ],
      "text/plain": [
       "   ID  LIMIT_BAL  SEX  EDUCATION  MARRIAGE  AGE  PAY_0  PAY_2  PAY_3  PAY_4  \\\n",
       "0   1      20000    2          2         1   24      2      2     -1     -1   \n",
       "1   2     120000    2          2         2   26     -1      2      0      0   \n",
       "2   3      90000    2          2         2   34      0      0      0      0   \n",
       "3   4      50000    2          2         1   37      0      0      0      0   \n",
       "4   5      50000    1          2         1   57     -1      0     -1      0   \n",
       "\n",
       "   ...  BILL_AMT4  BILL_AMT5  BILL_AMT6  PAY_AMT1  PAY_AMT2  PAY_AMT3  \\\n",
       "0  ...          0          0          0         0       689         0   \n",
       "1  ...       3272       3455       3261         0      1000      1000   \n",
       "2  ...      14331      14948      15549      1518      1500      1000   \n",
       "3  ...      28314      28959      29547      2000      2019      1200   \n",
       "4  ...      20940      19146      19131      2000     36681     10000   \n",
       "\n",
       "   PAY_AMT4  PAY_AMT5  PAY_AMT6  default payment next month  \n",
       "0         0         0         0                           1  \n",
       "1      1000         0      2000                           1  \n",
       "2      1000      1000      5000                           0  \n",
       "3      1100      1069      1000                           0  \n",
       "4      9000       689       679                           0  \n",
       "\n",
       "[5 rows x 25 columns]"
      ]
     },
     "execution_count": 3,
     "metadata": {},
     "output_type": "execute_result"
    }
   ],
   "source": [
    "#df = pd.read_csv('default_of_credit_card_clients.ods', encoding='latin-1',\n",
    "#                on_bad_lines='skip', lineterminator='\\n')\n",
    "\n",
    "df = pd.read_excel('https://archive.ics.uci.edu/ml/machine-learning-databases/00350/default%20of%20credit%20card%20clients.xls',\n",
    "                  header = 1)\n",
    "print('The columns in the data file:')\n",
    "print(df.columns)\n",
    "print('The sample contains ' + str(len(df)) + ' sources')\n",
    "df.head()"
   ]
  },
  {
   "cell_type": "markdown",
   "id": "ecd00d0b",
   "metadata": {},
   "source": [
    "The columns are (see https://archive.ics.uci.edu/ml/datasets/default+of+credit+card+clients):\n",
    "* **ID**, The ID number assigned to each costumer\n",
    "* **LIMIT_BALL**, Credit Limit\n",
    "* **SEX**, Gender\n",
    "* **EDUCATION**, Level of education\n",
    "* **MARRIAGE**, Marital status\n",
    "* **AGE**, Age\n",
    "* **PAY_**, When the last 6 bills were payed\n",
    "* **BLL_AMT**, What the last 6 bills were\n",
    "* **PAY_AMT**, How much the alst payments were\n",
    "* **default payment next month**\n",
    "\n",
    "To change the last column name, since it's unpractical:"
   ]
  },
  {
   "cell_type": "code",
   "execution_count": 8,
   "id": "13937aa8",
   "metadata": {},
   "outputs": [
    {
     "data": {
      "text/html": [
       "<div>\n",
       "<style scoped>\n",
       "    .dataframe tbody tr th:only-of-type {\n",
       "        vertical-align: middle;\n",
       "    }\n",
       "\n",
       "    .dataframe tbody tr th {\n",
       "        vertical-align: top;\n",
       "    }\n",
       "\n",
       "    .dataframe thead th {\n",
       "        text-align: right;\n",
       "    }\n",
       "</style>\n",
       "<table border=\"1\" class=\"dataframe\">\n",
       "  <thead>\n",
       "    <tr style=\"text-align: right;\">\n",
       "      <th></th>\n",
       "      <th>ID</th>\n",
       "      <th>LIMIT_BAL</th>\n",
       "      <th>SEX</th>\n",
       "      <th>EDUCATION</th>\n",
       "      <th>MARRIAGE</th>\n",
       "      <th>AGE</th>\n",
       "      <th>PAY_0</th>\n",
       "      <th>PAY_2</th>\n",
       "      <th>PAY_3</th>\n",
       "      <th>PAY_4</th>\n",
       "      <th>...</th>\n",
       "      <th>BILL_AMT4</th>\n",
       "      <th>BILL_AMT5</th>\n",
       "      <th>BILL_AMT6</th>\n",
       "      <th>PAY_AMT1</th>\n",
       "      <th>PAY_AMT2</th>\n",
       "      <th>PAY_AMT3</th>\n",
       "      <th>PAY_AMT4</th>\n",
       "      <th>PAY_AMT5</th>\n",
       "      <th>PAY_AMT6</th>\n",
       "      <th>DEFAULT</th>\n",
       "    </tr>\n",
       "  </thead>\n",
       "  <tbody>\n",
       "    <tr>\n",
       "      <th>0</th>\n",
       "      <td>1</td>\n",
       "      <td>20000</td>\n",
       "      <td>2</td>\n",
       "      <td>2</td>\n",
       "      <td>1</td>\n",
       "      <td>24</td>\n",
       "      <td>2</td>\n",
       "      <td>2</td>\n",
       "      <td>-1</td>\n",
       "      <td>-1</td>\n",
       "      <td>...</td>\n",
       "      <td>0</td>\n",
       "      <td>0</td>\n",
       "      <td>0</td>\n",
       "      <td>0</td>\n",
       "      <td>689</td>\n",
       "      <td>0</td>\n",
       "      <td>0</td>\n",
       "      <td>0</td>\n",
       "      <td>0</td>\n",
       "      <td>1</td>\n",
       "    </tr>\n",
       "    <tr>\n",
       "      <th>1</th>\n",
       "      <td>2</td>\n",
       "      <td>120000</td>\n",
       "      <td>2</td>\n",
       "      <td>2</td>\n",
       "      <td>2</td>\n",
       "      <td>26</td>\n",
       "      <td>-1</td>\n",
       "      <td>2</td>\n",
       "      <td>0</td>\n",
       "      <td>0</td>\n",
       "      <td>...</td>\n",
       "      <td>3272</td>\n",
       "      <td>3455</td>\n",
       "      <td>3261</td>\n",
       "      <td>0</td>\n",
       "      <td>1000</td>\n",
       "      <td>1000</td>\n",
       "      <td>1000</td>\n",
       "      <td>0</td>\n",
       "      <td>2000</td>\n",
       "      <td>1</td>\n",
       "    </tr>\n",
       "    <tr>\n",
       "      <th>2</th>\n",
       "      <td>3</td>\n",
       "      <td>90000</td>\n",
       "      <td>2</td>\n",
       "      <td>2</td>\n",
       "      <td>2</td>\n",
       "      <td>34</td>\n",
       "      <td>0</td>\n",
       "      <td>0</td>\n",
       "      <td>0</td>\n",
       "      <td>0</td>\n",
       "      <td>...</td>\n",
       "      <td>14331</td>\n",
       "      <td>14948</td>\n",
       "      <td>15549</td>\n",
       "      <td>1518</td>\n",
       "      <td>1500</td>\n",
       "      <td>1000</td>\n",
       "      <td>1000</td>\n",
       "      <td>1000</td>\n",
       "      <td>5000</td>\n",
       "      <td>0</td>\n",
       "    </tr>\n",
       "    <tr>\n",
       "      <th>3</th>\n",
       "      <td>4</td>\n",
       "      <td>50000</td>\n",
       "      <td>2</td>\n",
       "      <td>2</td>\n",
       "      <td>1</td>\n",
       "      <td>37</td>\n",
       "      <td>0</td>\n",
       "      <td>0</td>\n",
       "      <td>0</td>\n",
       "      <td>0</td>\n",
       "      <td>...</td>\n",
       "      <td>28314</td>\n",
       "      <td>28959</td>\n",
       "      <td>29547</td>\n",
       "      <td>2000</td>\n",
       "      <td>2019</td>\n",
       "      <td>1200</td>\n",
       "      <td>1100</td>\n",
       "      <td>1069</td>\n",
       "      <td>1000</td>\n",
       "      <td>0</td>\n",
       "    </tr>\n",
       "    <tr>\n",
       "      <th>4</th>\n",
       "      <td>5</td>\n",
       "      <td>50000</td>\n",
       "      <td>1</td>\n",
       "      <td>2</td>\n",
       "      <td>1</td>\n",
       "      <td>57</td>\n",
       "      <td>-1</td>\n",
       "      <td>0</td>\n",
       "      <td>-1</td>\n",
       "      <td>0</td>\n",
       "      <td>...</td>\n",
       "      <td>20940</td>\n",
       "      <td>19146</td>\n",
       "      <td>19131</td>\n",
       "      <td>2000</td>\n",
       "      <td>36681</td>\n",
       "      <td>10000</td>\n",
       "      <td>9000</td>\n",
       "      <td>689</td>\n",
       "      <td>679</td>\n",
       "      <td>0</td>\n",
       "    </tr>\n",
       "  </tbody>\n",
       "</table>\n",
       "<p>5 rows × 25 columns</p>\n",
       "</div>"
      ],
      "text/plain": [
       "   ID  LIMIT_BAL  SEX  EDUCATION  MARRIAGE  AGE  PAY_0  PAY_2  PAY_3  PAY_4  \\\n",
       "0   1      20000    2          2         1   24      2      2     -1     -1   \n",
       "1   2     120000    2          2         2   26     -1      2      0      0   \n",
       "2   3      90000    2          2         2   34      0      0      0      0   \n",
       "3   4      50000    2          2         1   37      0      0      0      0   \n",
       "4   5      50000    1          2         1   57     -1      0     -1      0   \n",
       "\n",
       "   ...  BILL_AMT4  BILL_AMT5  BILL_AMT6  PAY_AMT1  PAY_AMT2  PAY_AMT3  \\\n",
       "0  ...          0          0          0         0       689         0   \n",
       "1  ...       3272       3455       3261         0      1000      1000   \n",
       "2  ...      14331      14948      15549      1518      1500      1000   \n",
       "3  ...      28314      28959      29547      2000      2019      1200   \n",
       "4  ...      20940      19146      19131      2000     36681     10000   \n",
       "\n",
       "   PAY_AMT4  PAY_AMT5  PAY_AMT6  DEFAULT  \n",
       "0         0         0         0        1  \n",
       "1      1000         0      2000        1  \n",
       "2      1000      1000      5000        0  \n",
       "3      1100      1069      1000        0  \n",
       "4      9000       689       679        0  \n",
       "\n",
       "[5 rows x 25 columns]"
      ]
     },
     "execution_count": 8,
     "metadata": {},
     "output_type": "execute_result"
    }
   ],
   "source": [
    "df.rename({'default payment next month' : 'DEFAULT'}, axis = 'columns', inplace = True)\n",
    "df.head()"
   ]
  },
  {
   "cell_type": "markdown",
   "id": "befc2a36",
   "metadata": {},
   "source": [
    "# A. Missing Data: scikit-learn's SVMs do not support datasets with missing values \n",
    "\n",
    "## Part 1: Identifying Missing Data"
   ]
  },
  {
   "cell_type": "markdown",
   "id": "353a8aad",
   "metadata": {},
   "source": [
    "1. See what sort of data is in each column"
   ]
  },
  {
   "cell_type": "code",
   "execution_count": 10,
   "id": "7a3adfa8",
   "metadata": {},
   "outputs": [
    {
     "data": {
      "text/plain": [
       "ID           int64\n",
       "LIMIT_BAL    int64\n",
       "SEX          int64\n",
       "EDUCATION    int64\n",
       "MARRIAGE     int64\n",
       "AGE          int64\n",
       "PAY_0        int64\n",
       "PAY_2        int64\n",
       "PAY_3        int64\n",
       "PAY_4        int64\n",
       "PAY_5        int64\n",
       "PAY_6        int64\n",
       "BILL_AMT1    int64\n",
       "BILL_AMT2    int64\n",
       "BILL_AMT3    int64\n",
       "BILL_AMT4    int64\n",
       "BILL_AMT5    int64\n",
       "BILL_AMT6    int64\n",
       "PAY_AMT1     int64\n",
       "PAY_AMT2     int64\n",
       "PAY_AMT3     int64\n",
       "PAY_AMT4     int64\n",
       "PAY_AMT5     int64\n",
       "PAY_AMT6     int64\n",
       "DEFAULT      int64\n",
       "dtype: object"
      ]
     },
     "execution_count": 10,
     "metadata": {},
     "output_type": "execute_result"
    }
   ],
   "source": [
    "df.dtypes"
   ]
  },
  {
   "cell_type": "markdown",
   "id": "174c25a5",
   "metadata": {},
   "source": [
    "We see that every column is int64, which is good, since it tells us that no numbers and letters are mixed. In other words, there are no NA or '?' values in df.\n",
    "\n",
    "That said, we should still make sure each column contains acceptable values. See the documentation above to see which values are allowed in each column."
   ]
  },
  {
   "cell_type": "markdown",
   "id": "5662a431",
   "metadata": {},
   "source": [
    "* **LIMIT_BAL**, The amount of available credit, **Integer**\n",
    "* **SEX**, Gender (1 = male; 2 = female), **Category**\n",
    "* **EDUCATION**, **Category**\n",
    "    1 = graduate school\n",
    "    2 = univerisity\n",
    "    3 = high school\n",
    "    4 = others\n",
    "* **MARRIAGE**, **Category**\n",
    "    1 = Married\n",
    "    2 = Single\n",
    "    3 = Other\n",
    "* **AGE**, **Integer**\n",
    "    -1 = Paid on time\n",
    "    1 = Payment delayed by 1 month\n",
    "    2 = Payment delayed by 2 months\n",
    "    ...\n",
    "    9 = Payment delayed by 9 or more months\n",
    "* **BILL_AMT**, What the last 6 bills were, **Integer**\n",
    "* **PAY_AMT**, How much the last payments were, **Integer**\n",
    "* **DEFAULT**, Whether or not a person defaulted on the next payment, **Category**\n",
    "    0 = Did not default\n",
    "    1 = Defaulted\n",
    "    \n",
    "Let's start by making sure **SEX** only contains the numbers 1 and 2:"
   ]
  },
  {
   "cell_type": "code",
   "execution_count": 11,
   "id": "760cc149",
   "metadata": {},
   "outputs": [
    {
     "data": {
      "text/plain": [
       "array([2, 1])"
      ]
     },
     "execution_count": 11,
     "metadata": {},
     "output_type": "execute_result"
    }
   ],
   "source": [
    "df['SEX'].unique()"
   ]
  },
  {
   "cell_type": "markdown",
   "id": "7f453505",
   "metadata": {},
   "source": [
    "Everything appears fine. Now let's check every other category:"
   ]
  },
  {
   "cell_type": "code",
   "execution_count": 17,
   "id": "66eba23f",
   "metadata": {},
   "outputs": [
    {
     "name": "stdout",
     "output_type": "stream",
     "text": [
      "Set of unique values in  LIMIT_BAL  is:  [  20000  120000   90000   50000  500000  100000  140000  200000  260000\n",
      "  630000   70000  250000  320000  360000  180000  130000  450000   60000\n",
      "  230000  160000  280000   10000   40000  210000  150000  380000  310000\n",
      "  400000   80000  290000  340000  300000   30000  240000  470000  480000\n",
      "  350000  330000  110000  420000  170000  370000  270000  220000  190000\n",
      "  510000  460000  440000  410000  490000  390000  580000  600000  620000\n",
      "  610000  700000  670000  680000  430000  550000  540000 1000000  530000\n",
      "  710000  560000  520000  750000  640000   16000  570000  590000  660000\n",
      "  720000  327680  740000  800000  760000  690000  650000  780000  730000]\n",
      "Set of unique values in  SEX  is:  [2 1]\n",
      "Set of unique values in  EDUCATION  is:  [2 1 3 5 4 6 0]\n",
      "Set of unique values in  MARRIAGE  is:  [1 2 3 0]\n",
      "Set of unique values in  AGE  is:  [24 26 34 37 57 29 23 28 35 51 41 30 49 39 40 27 47 33 32 54 58 22 25 31\n",
      " 46 42 43 45 56 44 53 38 63 36 52 48 55 60 50 75 61 73 59 21 67 66 62 70\n",
      " 72 64 65 71 69 68 79 74]\n",
      "Set of unique values in  PAY_0  is:  [ 2 -1  0 -2  1  3  4  8  7  5  6]\n",
      "Set of unique values in  PAY_2  is:  [ 2  0 -1 -2  3  5  7  4  1  6  8]\n",
      "Set of unique values in  PAY_3  is:  [-1  0  2 -2  3  4  6  7  1  5  8]\n",
      "Set of unique values in  PAY_4  is:  [-1  0 -2  2  3  4  5  7  6  1  8]\n",
      "Set of unique values in  PAY_5  is:  [-2  0 -1  2  3  5  4  7  8  6]\n",
      "Set of unique values in  PAY_6  is:  [-2  2  0 -1  3  6  4  7  8  5]\n",
      "Set of unique values in  BILL_AMT1  is:  [ 3913  2682 29239 ...  1683 -1645 47929]\n",
      "Set of unique values in  BILL_AMT2  is:  [ 3102  1725 14027 ...  3356 78379 48905]\n",
      "Set of unique values in  BILL_AMT3  is:  [  689  2682 13559 ...  2758 76304 49764]\n",
      "Set of unique values in  BILL_AMT4  is:  [    0  3272 14331 ... 20878 52774 36535]\n",
      "Set of unique values in  BILL_AMT5  is:  [    0  3455 14948 ... 31237  5190 32428]\n",
      "Set of unique values in  BILL_AMT6  is:  [    0  3261 15549 ... 19357 48944 15313]\n",
      "Set of unique values in  PAY_AMT1  is:  [    0  1518  2000 ... 10029  9054 85900]\n",
      "Set of unique values in  PAY_AMT2  is:  [   689   1000   1500 ...   2977 111784   3526]\n",
      "Set of unique values in  PAY_AMT3  is:  [     0   1000   1200 ... 349395   8907  25128]\n",
      "Set of unique values in  PAY_AMT4  is:  [    0  1000  1100 ...  2556 10115  8049]\n",
      "Set of unique values in  PAY_AMT5  is:  [    0  1000  1069 ...  8040  3319 52964]\n",
      "Set of unique values in  PAY_AMT6  is:  [     0   2000   5000 ...  70052 220076  16080]\n",
      "Set of unique values in  DEFAULT  is:  [1 0]\n"
     ]
    }
   ],
   "source": [
    "for column in df.columns[1:]: # no need to check for ID column, every ID is a unique identifier\n",
    "    print('Set of unique values in ', column, ' is: ', df[column].unique())"
   ]
  },
  {
   "cell_type": "markdown",
   "id": "f5ae9fde",
   "metadata": {},
   "source": [
    "We see that, for reasons unkown, in addition to the allowed numbers 1, 2, 3 and 4, **EDUCATION** also contains 0, 5 and 6. Possibly, 0 represents missing data and 5 and 6 can be catagories not mentioned in the documentation, but that's just a guess.\n",
    "\n",
    "Likewhise, **MARRIAGE** also contains a 0, which can be an indicator of missing data.\n",
    "\n",
    "**In order to solve this problem, let's keep it simple and assume that 0 is missing data.**"
   ]
  },
  {
   "cell_type": "markdown",
   "id": "4d7a2fe4",
   "metadata": {},
   "source": [
    "## Part 2: Dealing with Missing Data\n",
    "\n",
    "#### We will work with one of the two of the main ways of dealing with missing data (see https://www.kaggle.com/code/alexisbcook/missing-values):\n",
    "* Remove rows (costumers) that contain missing data from the dataset\n",
    "* Impute the values that are missing \n",
    "\n",
    "1. Search for rows with missing values for either df['EDUCATION'] or df['MARRIAGE']"
   ]
  },
  {
   "cell_type": "code",
   "execution_count": 19,
   "id": "fbe699c7",
   "metadata": {},
   "outputs": [
    {
     "data": {
      "text/html": [
       "<div>\n",
       "<style scoped>\n",
       "    .dataframe tbody tr th:only-of-type {\n",
       "        vertical-align: middle;\n",
       "    }\n",
       "\n",
       "    .dataframe tbody tr th {\n",
       "        vertical-align: top;\n",
       "    }\n",
       "\n",
       "    .dataframe thead th {\n",
       "        text-align: right;\n",
       "    }\n",
       "</style>\n",
       "<table border=\"1\" class=\"dataframe\">\n",
       "  <thead>\n",
       "    <tr style=\"text-align: right;\">\n",
       "      <th></th>\n",
       "      <th>ID</th>\n",
       "      <th>LIMIT_BAL</th>\n",
       "      <th>SEX</th>\n",
       "      <th>EDUCATION</th>\n",
       "      <th>MARRIAGE</th>\n",
       "      <th>AGE</th>\n",
       "      <th>PAY_0</th>\n",
       "      <th>PAY_2</th>\n",
       "      <th>PAY_3</th>\n",
       "      <th>PAY_4</th>\n",
       "      <th>...</th>\n",
       "      <th>BILL_AMT4</th>\n",
       "      <th>BILL_AMT5</th>\n",
       "      <th>BILL_AMT6</th>\n",
       "      <th>PAY_AMT1</th>\n",
       "      <th>PAY_AMT2</th>\n",
       "      <th>PAY_AMT3</th>\n",
       "      <th>PAY_AMT4</th>\n",
       "      <th>PAY_AMT5</th>\n",
       "      <th>PAY_AMT6</th>\n",
       "      <th>DEFAULT</th>\n",
       "    </tr>\n",
       "  </thead>\n",
       "  <tbody>\n",
       "    <tr>\n",
       "      <th>218</th>\n",
       "      <td>219</td>\n",
       "      <td>110000</td>\n",
       "      <td>2</td>\n",
       "      <td>3</td>\n",
       "      <td>0</td>\n",
       "      <td>31</td>\n",
       "      <td>0</td>\n",
       "      <td>0</td>\n",
       "      <td>0</td>\n",
       "      <td>0</td>\n",
       "      <td>...</td>\n",
       "      <td>73315</td>\n",
       "      <td>63818</td>\n",
       "      <td>63208</td>\n",
       "      <td>4000</td>\n",
       "      <td>5000</td>\n",
       "      <td>3000</td>\n",
       "      <td>3000</td>\n",
       "      <td>3000</td>\n",
       "      <td>8954</td>\n",
       "      <td>0</td>\n",
       "    </tr>\n",
       "    <tr>\n",
       "      <th>809</th>\n",
       "      <td>810</td>\n",
       "      <td>160000</td>\n",
       "      <td>2</td>\n",
       "      <td>2</td>\n",
       "      <td>0</td>\n",
       "      <td>37</td>\n",
       "      <td>0</td>\n",
       "      <td>0</td>\n",
       "      <td>0</td>\n",
       "      <td>0</td>\n",
       "      <td>...</td>\n",
       "      <td>28574</td>\n",
       "      <td>27268</td>\n",
       "      <td>28021</td>\n",
       "      <td>35888</td>\n",
       "      <td>1325</td>\n",
       "      <td>891</td>\n",
       "      <td>1000</td>\n",
       "      <td>1098</td>\n",
       "      <td>426</td>\n",
       "      <td>0</td>\n",
       "    </tr>\n",
       "    <tr>\n",
       "      <th>820</th>\n",
       "      <td>821</td>\n",
       "      <td>200000</td>\n",
       "      <td>2</td>\n",
       "      <td>3</td>\n",
       "      <td>0</td>\n",
       "      <td>51</td>\n",
       "      <td>-1</td>\n",
       "      <td>-1</td>\n",
       "      <td>-1</td>\n",
       "      <td>-1</td>\n",
       "      <td>...</td>\n",
       "      <td>780</td>\n",
       "      <td>390</td>\n",
       "      <td>390</td>\n",
       "      <td>0</td>\n",
       "      <td>390</td>\n",
       "      <td>780</td>\n",
       "      <td>0</td>\n",
       "      <td>390</td>\n",
       "      <td>390</td>\n",
       "      <td>0</td>\n",
       "    </tr>\n",
       "    <tr>\n",
       "      <th>1019</th>\n",
       "      <td>1020</td>\n",
       "      <td>180000</td>\n",
       "      <td>2</td>\n",
       "      <td>3</td>\n",
       "      <td>0</td>\n",
       "      <td>45</td>\n",
       "      <td>-1</td>\n",
       "      <td>-1</td>\n",
       "      <td>-2</td>\n",
       "      <td>-2</td>\n",
       "      <td>...</td>\n",
       "      <td>0</td>\n",
       "      <td>0</td>\n",
       "      <td>0</td>\n",
       "      <td>0</td>\n",
       "      <td>0</td>\n",
       "      <td>0</td>\n",
       "      <td>0</td>\n",
       "      <td>0</td>\n",
       "      <td>0</td>\n",
       "      <td>0</td>\n",
       "    </tr>\n",
       "    <tr>\n",
       "      <th>1443</th>\n",
       "      <td>1444</td>\n",
       "      <td>200000</td>\n",
       "      <td>1</td>\n",
       "      <td>3</td>\n",
       "      <td>0</td>\n",
       "      <td>51</td>\n",
       "      <td>-1</td>\n",
       "      <td>-1</td>\n",
       "      <td>-1</td>\n",
       "      <td>-1</td>\n",
       "      <td>...</td>\n",
       "      <td>2529</td>\n",
       "      <td>1036</td>\n",
       "      <td>4430</td>\n",
       "      <td>5020</td>\n",
       "      <td>9236</td>\n",
       "      <td>2529</td>\n",
       "      <td>0</td>\n",
       "      <td>4430</td>\n",
       "      <td>6398</td>\n",
       "      <td>0</td>\n",
       "    </tr>\n",
       "  </tbody>\n",
       "</table>\n",
       "<p>5 rows × 25 columns</p>\n",
       "</div>"
      ],
      "text/plain": [
       "        ID  LIMIT_BAL  SEX  EDUCATION  MARRIAGE  AGE  PAY_0  PAY_2  PAY_3  \\\n",
       "218    219     110000    2          3         0   31      0      0      0   \n",
       "809    810     160000    2          2         0   37      0      0      0   \n",
       "820    821     200000    2          3         0   51     -1     -1     -1   \n",
       "1019  1020     180000    2          3         0   45     -1     -1     -2   \n",
       "1443  1444     200000    1          3         0   51     -1     -1     -1   \n",
       "\n",
       "      PAY_4  ...  BILL_AMT4  BILL_AMT5  BILL_AMT6  PAY_AMT1  PAY_AMT2  \\\n",
       "218       0  ...      73315      63818      63208      4000      5000   \n",
       "809       0  ...      28574      27268      28021     35888      1325   \n",
       "820      -1  ...        780        390        390         0       390   \n",
       "1019     -2  ...          0          0          0         0         0   \n",
       "1443     -1  ...       2529       1036       4430      5020      9236   \n",
       "\n",
       "      PAY_AMT3  PAY_AMT4  PAY_AMT5  PAY_AMT6  DEFAULT  \n",
       "218       3000      3000      3000      8954        0  \n",
       "809        891      1000      1098       426        0  \n",
       "820        780         0       390       390        0  \n",
       "1019         0         0         0         0        0  \n",
       "1443      2529         0      4430      6398        0  \n",
       "\n",
       "[5 rows x 25 columns]"
      ]
     },
     "execution_count": 19,
     "metadata": {},
     "output_type": "execute_result"
    }
   ],
   "source": [
    "df_miss = df.loc[(df['EDUCATION'] == 0) | (df['MARRIAGE'] == 0)]\n",
    "df_miss.head()"
   ]
  },
  {
   "cell_type": "code",
   "execution_count": 20,
   "id": "435fab0f",
   "metadata": {},
   "outputs": [
    {
     "data": {
      "text/plain": [
       "68"
      ]
     },
     "execution_count": 20,
     "metadata": {},
     "output_type": "execute_result"
    }
   ],
   "source": [
    "len(df_miss)"
   ]
  },
  {
   "cell_type": "code",
   "execution_count": 21,
   "id": "df3e9636",
   "metadata": {},
   "outputs": [
    {
     "name": "stdout",
     "output_type": "stream",
     "text": [
      "The percentage of missing values in the original dataset is 0.23. %.\n"
     ]
    }
   ],
   "source": [
    "pm = (len(df_miss) / len(df)) * 100\n",
    "print('The percentage of missing values in the original dataset is {:0.2f}.'.format(pm), '%.')"
   ]
  },
  {
   "cell_type": "markdown",
   "id": "c7d5f8a4",
   "metadata": {},
   "source": [
    "**Since a small percentage of the data is missing, we can take the easy route and delete the rows with missing values, instead of imputing missing values**"
   ]
  },
  {
   "cell_type": "code",
   "execution_count": 23,
   "id": "c4dd64f3",
   "metadata": {},
   "outputs": [
    {
     "data": {
      "text/html": [
       "<div>\n",
       "<style scoped>\n",
       "    .dataframe tbody tr th:only-of-type {\n",
       "        vertical-align: middle;\n",
       "    }\n",
       "\n",
       "    .dataframe tbody tr th {\n",
       "        vertical-align: top;\n",
       "    }\n",
       "\n",
       "    .dataframe thead th {\n",
       "        text-align: right;\n",
       "    }\n",
       "</style>\n",
       "<table border=\"1\" class=\"dataframe\">\n",
       "  <thead>\n",
       "    <tr style=\"text-align: right;\">\n",
       "      <th></th>\n",
       "      <th>ID</th>\n",
       "      <th>LIMIT_BAL</th>\n",
       "      <th>SEX</th>\n",
       "      <th>EDUCATION</th>\n",
       "      <th>MARRIAGE</th>\n",
       "      <th>AGE</th>\n",
       "      <th>PAY_0</th>\n",
       "      <th>PAY_2</th>\n",
       "      <th>PAY_3</th>\n",
       "      <th>PAY_4</th>\n",
       "      <th>...</th>\n",
       "      <th>BILL_AMT4</th>\n",
       "      <th>BILL_AMT5</th>\n",
       "      <th>BILL_AMT6</th>\n",
       "      <th>PAY_AMT1</th>\n",
       "      <th>PAY_AMT2</th>\n",
       "      <th>PAY_AMT3</th>\n",
       "      <th>PAY_AMT4</th>\n",
       "      <th>PAY_AMT5</th>\n",
       "      <th>PAY_AMT6</th>\n",
       "      <th>DEFAULT</th>\n",
       "    </tr>\n",
       "  </thead>\n",
       "  <tbody>\n",
       "    <tr>\n",
       "      <th>0</th>\n",
       "      <td>1</td>\n",
       "      <td>20000</td>\n",
       "      <td>2</td>\n",
       "      <td>2</td>\n",
       "      <td>1</td>\n",
       "      <td>24</td>\n",
       "      <td>2</td>\n",
       "      <td>2</td>\n",
       "      <td>-1</td>\n",
       "      <td>-1</td>\n",
       "      <td>...</td>\n",
       "      <td>0</td>\n",
       "      <td>0</td>\n",
       "      <td>0</td>\n",
       "      <td>0</td>\n",
       "      <td>689</td>\n",
       "      <td>0</td>\n",
       "      <td>0</td>\n",
       "      <td>0</td>\n",
       "      <td>0</td>\n",
       "      <td>1</td>\n",
       "    </tr>\n",
       "    <tr>\n",
       "      <th>1</th>\n",
       "      <td>2</td>\n",
       "      <td>120000</td>\n",
       "      <td>2</td>\n",
       "      <td>2</td>\n",
       "      <td>2</td>\n",
       "      <td>26</td>\n",
       "      <td>-1</td>\n",
       "      <td>2</td>\n",
       "      <td>0</td>\n",
       "      <td>0</td>\n",
       "      <td>...</td>\n",
       "      <td>3272</td>\n",
       "      <td>3455</td>\n",
       "      <td>3261</td>\n",
       "      <td>0</td>\n",
       "      <td>1000</td>\n",
       "      <td>1000</td>\n",
       "      <td>1000</td>\n",
       "      <td>0</td>\n",
       "      <td>2000</td>\n",
       "      <td>1</td>\n",
       "    </tr>\n",
       "    <tr>\n",
       "      <th>2</th>\n",
       "      <td>3</td>\n",
       "      <td>90000</td>\n",
       "      <td>2</td>\n",
       "      <td>2</td>\n",
       "      <td>2</td>\n",
       "      <td>34</td>\n",
       "      <td>0</td>\n",
       "      <td>0</td>\n",
       "      <td>0</td>\n",
       "      <td>0</td>\n",
       "      <td>...</td>\n",
       "      <td>14331</td>\n",
       "      <td>14948</td>\n",
       "      <td>15549</td>\n",
       "      <td>1518</td>\n",
       "      <td>1500</td>\n",
       "      <td>1000</td>\n",
       "      <td>1000</td>\n",
       "      <td>1000</td>\n",
       "      <td>5000</td>\n",
       "      <td>0</td>\n",
       "    </tr>\n",
       "    <tr>\n",
       "      <th>3</th>\n",
       "      <td>4</td>\n",
       "      <td>50000</td>\n",
       "      <td>2</td>\n",
       "      <td>2</td>\n",
       "      <td>1</td>\n",
       "      <td>37</td>\n",
       "      <td>0</td>\n",
       "      <td>0</td>\n",
       "      <td>0</td>\n",
       "      <td>0</td>\n",
       "      <td>...</td>\n",
       "      <td>28314</td>\n",
       "      <td>28959</td>\n",
       "      <td>29547</td>\n",
       "      <td>2000</td>\n",
       "      <td>2019</td>\n",
       "      <td>1200</td>\n",
       "      <td>1100</td>\n",
       "      <td>1069</td>\n",
       "      <td>1000</td>\n",
       "      <td>0</td>\n",
       "    </tr>\n",
       "    <tr>\n",
       "      <th>4</th>\n",
       "      <td>5</td>\n",
       "      <td>50000</td>\n",
       "      <td>1</td>\n",
       "      <td>2</td>\n",
       "      <td>1</td>\n",
       "      <td>57</td>\n",
       "      <td>-1</td>\n",
       "      <td>0</td>\n",
       "      <td>-1</td>\n",
       "      <td>0</td>\n",
       "      <td>...</td>\n",
       "      <td>20940</td>\n",
       "      <td>19146</td>\n",
       "      <td>19131</td>\n",
       "      <td>2000</td>\n",
       "      <td>36681</td>\n",
       "      <td>10000</td>\n",
       "      <td>9000</td>\n",
       "      <td>689</td>\n",
       "      <td>679</td>\n",
       "      <td>0</td>\n",
       "    </tr>\n",
       "  </tbody>\n",
       "</table>\n",
       "<p>5 rows × 25 columns</p>\n",
       "</div>"
      ],
      "text/plain": [
       "   ID  LIMIT_BAL  SEX  EDUCATION  MARRIAGE  AGE  PAY_0  PAY_2  PAY_3  PAY_4  \\\n",
       "0   1      20000    2          2         1   24      2      2     -1     -1   \n",
       "1   2     120000    2          2         2   26     -1      2      0      0   \n",
       "2   3      90000    2          2         2   34      0      0      0      0   \n",
       "3   4      50000    2          2         1   37      0      0      0      0   \n",
       "4   5      50000    1          2         1   57     -1      0     -1      0   \n",
       "\n",
       "   ...  BILL_AMT4  BILL_AMT5  BILL_AMT6  PAY_AMT1  PAY_AMT2  PAY_AMT3  \\\n",
       "0  ...          0          0          0         0       689         0   \n",
       "1  ...       3272       3455       3261         0      1000      1000   \n",
       "2  ...      14331      14948      15549      1518      1500      1000   \n",
       "3  ...      28314      28959      29547      2000      2019      1200   \n",
       "4  ...      20940      19146      19131      2000     36681     10000   \n",
       "\n",
       "   PAY_AMT4  PAY_AMT5  PAY_AMT6  DEFAULT  \n",
       "0         0         0         0        1  \n",
       "1      1000         0      2000        1  \n",
       "2      1000      1000      5000        0  \n",
       "3      1100      1069      1000        0  \n",
       "4      9000       689       679        0  \n",
       "\n",
       "[5 rows x 25 columns]"
      ]
     },
     "execution_count": 23,
     "metadata": {},
     "output_type": "execute_result"
    }
   ],
   "source": [
    "df_no_missing = df.loc[(df.EDUCATION != 0) & (df.MARRIAGE != 0)]\n",
    "df_no_missing.head()"
   ]
  },
  {
   "cell_type": "code",
   "execution_count": 24,
   "id": "d8c06aa9",
   "metadata": {},
   "outputs": [
    {
     "data": {
      "text/plain": [
       "29932"
      ]
     },
     "execution_count": 24,
     "metadata": {},
     "output_type": "execute_result"
    }
   ],
   "source": [
    "len(df_no_missing)"
   ]
  },
  {
   "cell_type": "markdown",
   "id": "dbe9d952",
   "metadata": {},
   "source": [
    "**Verify that EDUCATION and MARRIAGE no longer contain missing values (0s)**"
   ]
  },
  {
   "cell_type": "code",
   "execution_count": 25,
   "id": "a1c7a8b5",
   "metadata": {},
   "outputs": [
    {
     "name": "stdout",
     "output_type": "stream",
     "text": [
      "[2 1 3 5 4 6 0]\n"
     ]
    },
    {
     "data": {
      "text/plain": [
       "array([2, 1, 3, 5, 4, 6])"
      ]
     },
     "execution_count": 25,
     "metadata": {},
     "output_type": "execute_result"
    }
   ],
   "source": [
    "print(df.EDUCATION.unique()) # original dataset\n",
    "df_no_missing.EDUCATION.unique()"
   ]
  },
  {
   "cell_type": "code",
   "execution_count": 26,
   "id": "a2232cda",
   "metadata": {},
   "outputs": [
    {
     "name": "stdout",
     "output_type": "stream",
     "text": [
      "[1 2 3 0]\n"
     ]
    },
    {
     "data": {
      "text/plain": [
       "array([1, 2, 3])"
      ]
     },
     "execution_count": 26,
     "metadata": {},
     "output_type": "execute_result"
    }
   ],
   "source": [
    "print(df.MARRIAGE.unique()) # original dataset\n",
    "df_no_missing.MARRIAGE.unique()"
   ]
  },
  {
   "cell_type": "markdown",
   "id": "e93232d7",
   "metadata": {},
   "source": [
    "***"
   ]
  },
  {
   "cell_type": "markdown",
   "id": "8dacf423",
   "metadata": {},
   "source": [
    "# B. Downsample the data\n",
    "\n",
    "**Support Vector Machines** are great with small datasets, but not awesome with large ones, and this dataset, while not huge, is big enough to take a long time to optimize with **Cross Validation**. So we need to downsample both category, customers who did and did not default, to 1000 each."
   ]
  },
  {
   "cell_type": "code",
   "execution_count": 27,
   "id": "3c34239f",
   "metadata": {},
   "outputs": [
    {
     "data": {
      "text/plain": [
       "29932"
      ]
     },
     "execution_count": 27,
     "metadata": {},
     "output_type": "execute_result"
    }
   ],
   "source": [
    "len(df_no_missing)"
   ]
  },
  {
   "cell_type": "markdown",
   "id": "1e0c3c7e",
   "metadata": {},
   "source": [
    "The size of this dataset is a relatively large number for a SVM, so to downsampel to 1000 of each category, we start by splitting the data into two dataframes, one for people that did not default and one for people that did default."
   ]
  },
  {
   "cell_type": "code",
   "execution_count": 29,
   "id": "e8ec1ef7",
   "metadata": {},
   "outputs": [],
   "source": [
    "df_no_default = df_no_missing[df_no_missing['DEFAULT'] == 0]\n",
    "df_default = df_no_missing[df_no_missing['DEFAULT'] == 1]"
   ]
  },
  {
   "cell_type": "markdown",
   "id": "edc6e335",
   "metadata": {},
   "source": [
    "Now downsample the dataset that did not default:"
   ]
  },
  {
   "cell_type": "code",
   "execution_count": 31,
   "id": "b3687ac8",
   "metadata": {},
   "outputs": [
    {
     "data": {
      "text/plain": [
       "1000"
      ]
     },
     "execution_count": 31,
     "metadata": {},
     "output_type": "execute_result"
    }
   ],
   "source": [
    "df_no_default_downsample = resample(df_no_default,\n",
    "                                   replace = False, # no duplicates\n",
    "                                   n_samples = 1000, # size of new sample\n",
    "                                   random_state = 42 # deterministic outcome\n",
    "                                   )\n",
    "\n",
    "len(df_no_default_downsample)"
   ]
  },
  {
   "cell_type": "markdown",
   "id": "ab6384fb",
   "metadata": {},
   "source": [
    "Do the same for the dataset of default:"
   ]
  },
  {
   "cell_type": "code",
   "execution_count": 33,
   "id": "789f5174",
   "metadata": {},
   "outputs": [
    {
     "data": {
      "text/plain": [
       "1000"
      ]
     },
     "execution_count": 33,
     "metadata": {},
     "output_type": "execute_result"
    }
   ],
   "source": [
    "df_default_downsample = resample(df_default,\n",
    "                                   replace = False, # no duplicates\n",
    "                                   n_samples = 1000, # size of new sample\n",
    "                                   random_state = 42 # deterministic outcome\n",
    "                                   )\n",
    "\n",
    "len(df_default_downsample)"
   ]
  },
  {
   "cell_type": "markdown",
   "id": "2db90f55",
   "metadata": {},
   "source": [
    "Now let's merge the downsampled datasets into a single dataframe:"
   ]
  },
  {
   "cell_type": "code",
   "execution_count": 34,
   "id": "af3845b8",
   "metadata": {},
   "outputs": [
    {
     "data": {
      "text/plain": [
       "2000"
      ]
     },
     "execution_count": 34,
     "metadata": {},
     "output_type": "execute_result"
    }
   ],
   "source": [
    "df_downsample = pd.concat([df_no_default_downsample, df_default_downsample])\n",
    "len(df_downsample)"
   ]
  },
  {
   "cell_type": "markdown",
   "id": "3502801c",
   "metadata": {},
   "source": [
    "***"
   ]
  },
  {
   "cell_type": "markdown",
   "id": "a069b980",
   "metadata": {},
   "source": [
    "# C. Format Data\n",
    "\n",
    "## Part 1: Split the Data into Dependent and Independent Variables"
   ]
  },
  {
   "cell_type": "markdown",
   "id": "739b2128",
   "metadata": {},
   "source": [
    "**Now that we have taken care of the missing data, we are ready to start formatting the data for making a Support Vector Machine**"
   ]
  },
  {
   "cell_type": "markdown",
   "id": "2ba2eabc",
   "metadata": {},
   "source": [
    "The first step is to split the data into two parts:\n",
    "1. The columns of data that we will use to make classifications - We call this **X**\n",
    "2. The columns of data that we want to predict - We call this **y**\n",
    "\n",
    "**NOTE:** The reason we deal with missing data before splitting into **X** and **y** is that if we need to remove rows, splitting after ensures that each row in **X** corresponds with the appropriate value in **y**"
   ]
  },
  {
   "cell_type": "code",
   "execution_count": 56,
   "id": "5d03eaee",
   "metadata": {},
   "outputs": [
    {
     "data": {
      "text/html": [
       "<div>\n",
       "<style scoped>\n",
       "    .dataframe tbody tr th:only-of-type {\n",
       "        vertical-align: middle;\n",
       "    }\n",
       "\n",
       "    .dataframe tbody tr th {\n",
       "        vertical-align: top;\n",
       "    }\n",
       "\n",
       "    .dataframe thead th {\n",
       "        text-align: right;\n",
       "    }\n",
       "</style>\n",
       "<table border=\"1\" class=\"dataframe\">\n",
       "  <thead>\n",
       "    <tr style=\"text-align: right;\">\n",
       "      <th></th>\n",
       "      <th>ID</th>\n",
       "      <th>LIMIT_BAL</th>\n",
       "      <th>SEX</th>\n",
       "      <th>EDUCATION</th>\n",
       "      <th>MARRIAGE</th>\n",
       "      <th>AGE</th>\n",
       "      <th>PAY_0</th>\n",
       "      <th>PAY_2</th>\n",
       "      <th>PAY_3</th>\n",
       "      <th>PAY_4</th>\n",
       "      <th>...</th>\n",
       "      <th>BILL_AMT3</th>\n",
       "      <th>BILL_AMT4</th>\n",
       "      <th>BILL_AMT5</th>\n",
       "      <th>BILL_AMT6</th>\n",
       "      <th>PAY_AMT1</th>\n",
       "      <th>PAY_AMT2</th>\n",
       "      <th>PAY_AMT3</th>\n",
       "      <th>PAY_AMT4</th>\n",
       "      <th>PAY_AMT5</th>\n",
       "      <th>PAY_AMT6</th>\n",
       "    </tr>\n",
       "  </thead>\n",
       "  <tbody>\n",
       "    <tr>\n",
       "      <th>641</th>\n",
       "      <td>642</td>\n",
       "      <td>130000</td>\n",
       "      <td>2</td>\n",
       "      <td>3</td>\n",
       "      <td>1</td>\n",
       "      <td>28</td>\n",
       "      <td>0</td>\n",
       "      <td>0</td>\n",
       "      <td>0</td>\n",
       "      <td>0</td>\n",
       "      <td>...</td>\n",
       "      <td>50000</td>\n",
       "      <td>0</td>\n",
       "      <td>0</td>\n",
       "      <td>0</td>\n",
       "      <td>2500</td>\n",
       "      <td>1000</td>\n",
       "      <td>0</td>\n",
       "      <td>0</td>\n",
       "      <td>0</td>\n",
       "      <td>0</td>\n",
       "    </tr>\n",
       "    <tr>\n",
       "      <th>4678</th>\n",
       "      <td>4679</td>\n",
       "      <td>170000</td>\n",
       "      <td>1</td>\n",
       "      <td>3</td>\n",
       "      <td>1</td>\n",
       "      <td>29</td>\n",
       "      <td>0</td>\n",
       "      <td>0</td>\n",
       "      <td>0</td>\n",
       "      <td>0</td>\n",
       "      <td>...</td>\n",
       "      <td>172307</td>\n",
       "      <td>35234</td>\n",
       "      <td>32869</td>\n",
       "      <td>33862</td>\n",
       "      <td>7200</td>\n",
       "      <td>7500</td>\n",
       "      <td>1200</td>\n",
       "      <td>1200</td>\n",
       "      <td>1500</td>\n",
       "      <td>1300</td>\n",
       "    </tr>\n",
       "    <tr>\n",
       "      <th>16004</th>\n",
       "      <td>16005</td>\n",
       "      <td>180000</td>\n",
       "      <td>2</td>\n",
       "      <td>2</td>\n",
       "      <td>1</td>\n",
       "      <td>29</td>\n",
       "      <td>0</td>\n",
       "      <td>0</td>\n",
       "      <td>0</td>\n",
       "      <td>0</td>\n",
       "      <td>...</td>\n",
       "      <td>26310</td>\n",
       "      <td>26662</td>\n",
       "      <td>26166</td>\n",
       "      <td>26176</td>\n",
       "      <td>1800</td>\n",
       "      <td>1800</td>\n",
       "      <td>1500</td>\n",
       "      <td>1056</td>\n",
       "      <td>950</td>\n",
       "      <td>1000</td>\n",
       "    </tr>\n",
       "    <tr>\n",
       "      <th>22974</th>\n",
       "      <td>22975</td>\n",
       "      <td>210000</td>\n",
       "      <td>2</td>\n",
       "      <td>2</td>\n",
       "      <td>2</td>\n",
       "      <td>32</td>\n",
       "      <td>-2</td>\n",
       "      <td>-2</td>\n",
       "      <td>-2</td>\n",
       "      <td>-2</td>\n",
       "      <td>...</td>\n",
       "      <td>410</td>\n",
       "      <td>0</td>\n",
       "      <td>0</td>\n",
       "      <td>0</td>\n",
       "      <td>979</td>\n",
       "      <td>412</td>\n",
       "      <td>0</td>\n",
       "      <td>0</td>\n",
       "      <td>0</td>\n",
       "      <td>0</td>\n",
       "    </tr>\n",
       "    <tr>\n",
       "      <th>17535</th>\n",
       "      <td>17536</td>\n",
       "      <td>190000</td>\n",
       "      <td>2</td>\n",
       "      <td>3</td>\n",
       "      <td>1</td>\n",
       "      <td>45</td>\n",
       "      <td>0</td>\n",
       "      <td>0</td>\n",
       "      <td>0</td>\n",
       "      <td>0</td>\n",
       "      <td>...</td>\n",
       "      <td>80548</td>\n",
       "      <td>81778</td>\n",
       "      <td>83082</td>\n",
       "      <td>84811</td>\n",
       "      <td>3300</td>\n",
       "      <td>3331</td>\n",
       "      <td>3359</td>\n",
       "      <td>2663</td>\n",
       "      <td>2751</td>\n",
       "      <td>3000</td>\n",
       "    </tr>\n",
       "  </tbody>\n",
       "</table>\n",
       "<p>5 rows × 24 columns</p>\n",
       "</div>"
      ],
      "text/plain": [
       "          ID  LIMIT_BAL  SEX  EDUCATION  MARRIAGE  AGE  PAY_0  PAY_2  PAY_3  \\\n",
       "641      642     130000    2          3         1   28      0      0      0   \n",
       "4678    4679     170000    1          3         1   29      0      0      0   \n",
       "16004  16005     180000    2          2         1   29      0      0      0   \n",
       "22974  22975     210000    2          2         2   32     -2     -2     -2   \n",
       "17535  17536     190000    2          3         1   45      0      0      0   \n",
       "\n",
       "       PAY_4  ...  BILL_AMT3  BILL_AMT4  BILL_AMT5  BILL_AMT6  PAY_AMT1  \\\n",
       "641        0  ...      50000          0          0          0      2500   \n",
       "4678       0  ...     172307      35234      32869      33862      7200   \n",
       "16004      0  ...      26310      26662      26166      26176      1800   \n",
       "22974     -2  ...        410          0          0          0       979   \n",
       "17535      0  ...      80548      81778      83082      84811      3300   \n",
       "\n",
       "       PAY_AMT2  PAY_AMT3  PAY_AMT4  PAY_AMT5  PAY_AMT6  \n",
       "641        1000         0         0         0         0  \n",
       "4678       7500      1200      1200      1500      1300  \n",
       "16004      1800      1500      1056       950      1000  \n",
       "22974       412         0         0         0         0  \n",
       "17535      3331      3359      2663      2751      3000  \n",
       "\n",
       "[5 rows x 24 columns]"
      ]
     },
     "execution_count": 56,
     "metadata": {},
     "output_type": "execute_result"
    }
   ],
   "source": [
    "# Make a new copy of the columns used to make predictions\n",
    "# This ensures that when formatting the columns for classification trees, we can just re-copy df_no_mssing,\n",
    "# rather than reload the original data and remove the missing values, etc..\n",
    "X = df_downsample.drop('DEFAULT', axis=1).copy() # remove y from the classification data\n",
    "#X = df_no_missing.iloc[:,:-1] # copys the entire dataframe except the last column, which is what we want to predict\n",
    "X.head()"
   ]
  },
  {
   "cell_type": "code",
   "execution_count": 37,
   "id": "f6d151c2",
   "metadata": {},
   "outputs": [
    {
     "data": {
      "text/plain": [
       "641      0\n",
       "4678     0\n",
       "16004    0\n",
       "22974    0\n",
       "17535    0\n",
       "Name: DEFAULT, dtype: int64"
      ]
     },
     "execution_count": 37,
     "metadata": {},
     "output_type": "execute_result"
    }
   ],
   "source": [
    "# Make a new copy of the data we want to predict\n",
    "y = df_downsample['DEFAULT'].copy()\n",
    "y.head()"
   ]
  },
  {
   "cell_type": "markdown",
   "id": "fdfb9a75",
   "metadata": {},
   "source": [
    "Now that we have created X, which is the data we want to use to make predictions, and y, which has the data we want to predict, we are ready to continue formatting X so that it is suitable for making a **Support Vector Machine**"
   ]
  },
  {
   "cell_type": "markdown",
   "id": "c2121094",
   "metadata": {},
   "source": [
    "## Part 2: One-Hot Encoding"
   ]
  },
  {
   "cell_type": "markdown",
   "id": "c048f439",
   "metadata": {},
   "source": [
    "**Now that we have split the dataframe into two pieces, X and y, we need to take a closer look at the variables in X.**\n",
    "\n",
    "The list below tells us what each variable represents and the type of data (**float** or **categorical**) it should contain:\n",
    "\n",
    "* **LIMIT_BAL**, The amount of available credit, **Integer**\n",
    "* **SEX**, Gender (1 = male; 2 = female), **Category**\n",
    "* **EDUCATION**, **Category**\n",
    "         1 = graduate school\n",
    "         2 = univerisity\n",
    "         3 = high school\n",
    "         4 = others\n",
    "* **MARRIAGE**, **Category**\n",
    "        1 = Married\n",
    "        2 = Single\n",
    "        3 = Other\n",
    "* **AGE**, **Integer**\n",
    "        -1 = Paid on time\n",
    "        1 = Payment delayed by 1 month\n",
    "        2 = Payment delayed by 2 months\n",
    "        ...\n",
    "        9 = Payment delayed by 9 or more months\n",
    "* **BILL_AMT**, What the last 6 bills were, **Integer**\n",
    "* **PAY_AMT**, How much the last payments were, **Integer**\n",
    "* **DEFAULT**, Whether or not a person defaulted on the next payment, **Category**\n",
    "        0 = Did not default\n",
    "        1 = Defaulted"
   ]
  },
  {
   "cell_type": "markdown",
   "id": "e6f9c87e",
   "metadata": {},
   "source": [
    "We see that **SEX, EDUCATION, MARRIAGE AND PAY_** are supposed to be categorical and need to be modified. This is because, while scikit learn **Support Vector Machines** natively support continuous data, like **LIMIT_BAL** and **AGE**, they do not natively support categorical data, liek **MARRIAGE**, which contains 3 different categories. Thus, we have to convert columns of categorical data into multiple columns of binary values using **One-Hot Encoding** (see https://www.kaggle.com/code/alexisbcook/categorical-variables)\n",
    "\n",
    "If we did not perform this step, for example, for the **MARRIAGE** column, we have 3 options:\n",
    "\n",
    "    1. Married\n",
    "    2. Single\n",
    "    3. Other\n",
    "   \n",
    "If we treated these values, 1, 2 and 3, like continuous data, then we would assume that 3, which means 'other', is more similar to 2, which means 'single, than it is to 1, which means 'married'. That means the support vector amchien would be more likely to cluster the people with 3s and 2s together than the people with 3s and 1s together. In contrast, if we treat these numbers like categorical data, then we treat each one as a separate category that is no more or less similar to any of the other categories. Thus, the likelihood of clustering people with 3s with 2s is the same as clustering 3s with 1s, and that approach is more reasonable.\n",
    "\n",
    "\n",
    "**NOTE**: There are many different ways to do **One-Hot Encoding** in Python. Two of the more popular methods are:\n",
    "\n",
    "* ColumnTransformer() from Scikit-learn - more commonly used in production systems and has more features\n",
    "* get_dummies() from Pandas - easiest to do and easier to verify that it worked as intended"
   ]
  },
  {
   "cell_type": "markdown",
   "id": "736628c8",
   "metadata": {},
   "source": [
    "First, before we commit to converting cp with **One-Hot Encoding**, let's just just see what happens when we convert solely **MARRIAGE** without saving the results:"
   ]
  },
  {
   "cell_type": "code",
   "execution_count": 39,
   "id": "9cdc5ffc",
   "metadata": {},
   "outputs": [
    {
     "data": {
      "text/html": [
       "<div>\n",
       "<style scoped>\n",
       "    .dataframe tbody tr th:only-of-type {\n",
       "        vertical-align: middle;\n",
       "    }\n",
       "\n",
       "    .dataframe tbody tr th {\n",
       "        vertical-align: top;\n",
       "    }\n",
       "\n",
       "    .dataframe thead th {\n",
       "        text-align: right;\n",
       "    }\n",
       "</style>\n",
       "<table border=\"1\" class=\"dataframe\">\n",
       "  <thead>\n",
       "    <tr style=\"text-align: right;\">\n",
       "      <th></th>\n",
       "      <th>ID</th>\n",
       "      <th>LIMIT_BAL</th>\n",
       "      <th>SEX</th>\n",
       "      <th>EDUCATION</th>\n",
       "      <th>AGE</th>\n",
       "      <th>PAY_0</th>\n",
       "      <th>PAY_2</th>\n",
       "      <th>PAY_3</th>\n",
       "      <th>PAY_4</th>\n",
       "      <th>PAY_5</th>\n",
       "      <th>...</th>\n",
       "      <th>BILL_AMT6</th>\n",
       "      <th>PAY_AMT1</th>\n",
       "      <th>PAY_AMT2</th>\n",
       "      <th>PAY_AMT3</th>\n",
       "      <th>PAY_AMT4</th>\n",
       "      <th>PAY_AMT5</th>\n",
       "      <th>PAY_AMT6</th>\n",
       "      <th>MARRIAGE_1</th>\n",
       "      <th>MARRIAGE_2</th>\n",
       "      <th>MARRIAGE_3</th>\n",
       "    </tr>\n",
       "  </thead>\n",
       "  <tbody>\n",
       "    <tr>\n",
       "      <th>641</th>\n",
       "      <td>642</td>\n",
       "      <td>130000</td>\n",
       "      <td>2</td>\n",
       "      <td>3</td>\n",
       "      <td>28</td>\n",
       "      <td>0</td>\n",
       "      <td>0</td>\n",
       "      <td>0</td>\n",
       "      <td>0</td>\n",
       "      <td>-2</td>\n",
       "      <td>...</td>\n",
       "      <td>0</td>\n",
       "      <td>2500</td>\n",
       "      <td>1000</td>\n",
       "      <td>0</td>\n",
       "      <td>0</td>\n",
       "      <td>0</td>\n",
       "      <td>0</td>\n",
       "      <td>1</td>\n",
       "      <td>0</td>\n",
       "      <td>0</td>\n",
       "    </tr>\n",
       "    <tr>\n",
       "      <th>4678</th>\n",
       "      <td>4679</td>\n",
       "      <td>170000</td>\n",
       "      <td>1</td>\n",
       "      <td>3</td>\n",
       "      <td>29</td>\n",
       "      <td>0</td>\n",
       "      <td>0</td>\n",
       "      <td>0</td>\n",
       "      <td>0</td>\n",
       "      <td>0</td>\n",
       "      <td>...</td>\n",
       "      <td>33862</td>\n",
       "      <td>7200</td>\n",
       "      <td>7500</td>\n",
       "      <td>1200</td>\n",
       "      <td>1200</td>\n",
       "      <td>1500</td>\n",
       "      <td>1300</td>\n",
       "      <td>1</td>\n",
       "      <td>0</td>\n",
       "      <td>0</td>\n",
       "    </tr>\n",
       "    <tr>\n",
       "      <th>16004</th>\n",
       "      <td>16005</td>\n",
       "      <td>180000</td>\n",
       "      <td>2</td>\n",
       "      <td>2</td>\n",
       "      <td>29</td>\n",
       "      <td>0</td>\n",
       "      <td>0</td>\n",
       "      <td>0</td>\n",
       "      <td>0</td>\n",
       "      <td>0</td>\n",
       "      <td>...</td>\n",
       "      <td>26176</td>\n",
       "      <td>1800</td>\n",
       "      <td>1800</td>\n",
       "      <td>1500</td>\n",
       "      <td>1056</td>\n",
       "      <td>950</td>\n",
       "      <td>1000</td>\n",
       "      <td>1</td>\n",
       "      <td>0</td>\n",
       "      <td>0</td>\n",
       "    </tr>\n",
       "    <tr>\n",
       "      <th>22974</th>\n",
       "      <td>22975</td>\n",
       "      <td>210000</td>\n",
       "      <td>2</td>\n",
       "      <td>2</td>\n",
       "      <td>32</td>\n",
       "      <td>-2</td>\n",
       "      <td>-2</td>\n",
       "      <td>-2</td>\n",
       "      <td>-2</td>\n",
       "      <td>-2</td>\n",
       "      <td>...</td>\n",
       "      <td>0</td>\n",
       "      <td>979</td>\n",
       "      <td>412</td>\n",
       "      <td>0</td>\n",
       "      <td>0</td>\n",
       "      <td>0</td>\n",
       "      <td>0</td>\n",
       "      <td>0</td>\n",
       "      <td>1</td>\n",
       "      <td>0</td>\n",
       "    </tr>\n",
       "    <tr>\n",
       "      <th>17535</th>\n",
       "      <td>17536</td>\n",
       "      <td>190000</td>\n",
       "      <td>2</td>\n",
       "      <td>3</td>\n",
       "      <td>45</td>\n",
       "      <td>0</td>\n",
       "      <td>0</td>\n",
       "      <td>0</td>\n",
       "      <td>0</td>\n",
       "      <td>0</td>\n",
       "      <td>...</td>\n",
       "      <td>84811</td>\n",
       "      <td>3300</td>\n",
       "      <td>3331</td>\n",
       "      <td>3359</td>\n",
       "      <td>2663</td>\n",
       "      <td>2751</td>\n",
       "      <td>3000</td>\n",
       "      <td>1</td>\n",
       "      <td>0</td>\n",
       "      <td>0</td>\n",
       "    </tr>\n",
       "  </tbody>\n",
       "</table>\n",
       "<p>5 rows × 26 columns</p>\n",
       "</div>"
      ],
      "text/plain": [
       "          ID  LIMIT_BAL  SEX  EDUCATION  AGE  PAY_0  PAY_2  PAY_3  PAY_4  \\\n",
       "641      642     130000    2          3   28      0      0      0      0   \n",
       "4678    4679     170000    1          3   29      0      0      0      0   \n",
       "16004  16005     180000    2          2   29      0      0      0      0   \n",
       "22974  22975     210000    2          2   32     -2     -2     -2     -2   \n",
       "17535  17536     190000    2          3   45      0      0      0      0   \n",
       "\n",
       "       PAY_5  ...  BILL_AMT6  PAY_AMT1  PAY_AMT2  PAY_AMT3  PAY_AMT4  \\\n",
       "641       -2  ...          0      2500      1000         0         0   \n",
       "4678       0  ...      33862      7200      7500      1200      1200   \n",
       "16004      0  ...      26176      1800      1800      1500      1056   \n",
       "22974     -2  ...          0       979       412         0         0   \n",
       "17535      0  ...      84811      3300      3331      3359      2663   \n",
       "\n",
       "       PAY_AMT5  PAY_AMT6  MARRIAGE_1  MARRIAGE_2  MARRIAGE_3  \n",
       "641           0         0           1           0           0  \n",
       "4678       1500      1300           1           0           0  \n",
       "16004       950      1000           1           0           0  \n",
       "22974         0         0           0           1           0  \n",
       "17535      2751      3000           1           0           0  \n",
       "\n",
       "[5 rows x 26 columns]"
      ]
     },
     "execution_count": 39,
     "metadata": {},
     "output_type": "execute_result"
    }
   ],
   "source": [
    "pd.get_dummies(X, columns = ['MARRIAGE']).head()"
   ]
  },
  {
   "cell_type": "markdown",
   "id": "d104f475",
   "metadata": {},
   "source": [
    "Here:\n",
    "* MARRIAGE_1 is for any person that had a 1 (married)\n",
    "* MARRIAGE_2 is for any person that had a 2 (single)\n",
    "* MARRIAGE_3 is for any person that had a 3 (other)"
   ]
  },
  {
   "cell_type": "markdown",
   "id": "e41a3ff4",
   "metadata": {},
   "source": [
    "Now that we see how get_dummies() works, let's use it in on the four categorical columns that have more than 2 categories and save the result:"
   ]
  },
  {
   "cell_type": "code",
   "execution_count": 40,
   "id": "f10c32e6",
   "metadata": {},
   "outputs": [
    {
     "data": {
      "text/html": [
       "<div>\n",
       "<style scoped>\n",
       "    .dataframe tbody tr th:only-of-type {\n",
       "        vertical-align: middle;\n",
       "    }\n",
       "\n",
       "    .dataframe tbody tr th {\n",
       "        vertical-align: top;\n",
       "    }\n",
       "\n",
       "    .dataframe thead th {\n",
       "        text-align: right;\n",
       "    }\n",
       "</style>\n",
       "<table border=\"1\" class=\"dataframe\">\n",
       "  <thead>\n",
       "    <tr style=\"text-align: right;\">\n",
       "      <th></th>\n",
       "      <th>ID</th>\n",
       "      <th>LIMIT_BAL</th>\n",
       "      <th>AGE</th>\n",
       "      <th>BILL_AMT1</th>\n",
       "      <th>BILL_AMT2</th>\n",
       "      <th>BILL_AMT3</th>\n",
       "      <th>BILL_AMT4</th>\n",
       "      <th>BILL_AMT5</th>\n",
       "      <th>BILL_AMT6</th>\n",
       "      <th>PAY_AMT1</th>\n",
       "      <th>...</th>\n",
       "      <th>PAY_5_7</th>\n",
       "      <th>PAY_6_-2</th>\n",
       "      <th>PAY_6_-1</th>\n",
       "      <th>PAY_6_0</th>\n",
       "      <th>PAY_6_2</th>\n",
       "      <th>PAY_6_3</th>\n",
       "      <th>PAY_6_4</th>\n",
       "      <th>PAY_6_5</th>\n",
       "      <th>PAY_6_6</th>\n",
       "      <th>PAY_6_7</th>\n",
       "    </tr>\n",
       "  </thead>\n",
       "  <tbody>\n",
       "    <tr>\n",
       "      <th>641</th>\n",
       "      <td>642</td>\n",
       "      <td>130000</td>\n",
       "      <td>28</td>\n",
       "      <td>100143</td>\n",
       "      <td>50456</td>\n",
       "      <td>50000</td>\n",
       "      <td>0</td>\n",
       "      <td>0</td>\n",
       "      <td>0</td>\n",
       "      <td>2500</td>\n",
       "      <td>...</td>\n",
       "      <td>0</td>\n",
       "      <td>1</td>\n",
       "      <td>0</td>\n",
       "      <td>0</td>\n",
       "      <td>0</td>\n",
       "      <td>0</td>\n",
       "      <td>0</td>\n",
       "      <td>0</td>\n",
       "      <td>0</td>\n",
       "      <td>0</td>\n",
       "    </tr>\n",
       "    <tr>\n",
       "      <th>4678</th>\n",
       "      <td>4679</td>\n",
       "      <td>170000</td>\n",
       "      <td>29</td>\n",
       "      <td>165027</td>\n",
       "      <td>168990</td>\n",
       "      <td>172307</td>\n",
       "      <td>35234</td>\n",
       "      <td>32869</td>\n",
       "      <td>33862</td>\n",
       "      <td>7200</td>\n",
       "      <td>...</td>\n",
       "      <td>0</td>\n",
       "      <td>0</td>\n",
       "      <td>0</td>\n",
       "      <td>1</td>\n",
       "      <td>0</td>\n",
       "      <td>0</td>\n",
       "      <td>0</td>\n",
       "      <td>0</td>\n",
       "      <td>0</td>\n",
       "      <td>0</td>\n",
       "    </tr>\n",
       "    <tr>\n",
       "      <th>16004</th>\n",
       "      <td>16005</td>\n",
       "      <td>180000</td>\n",
       "      <td>29</td>\n",
       "      <td>25781</td>\n",
       "      <td>26000</td>\n",
       "      <td>26310</td>\n",
       "      <td>26662</td>\n",
       "      <td>26166</td>\n",
       "      <td>26176</td>\n",
       "      <td>1800</td>\n",
       "      <td>...</td>\n",
       "      <td>0</td>\n",
       "      <td>0</td>\n",
       "      <td>0</td>\n",
       "      <td>1</td>\n",
       "      <td>0</td>\n",
       "      <td>0</td>\n",
       "      <td>0</td>\n",
       "      <td>0</td>\n",
       "      <td>0</td>\n",
       "      <td>0</td>\n",
       "    </tr>\n",
       "    <tr>\n",
       "      <th>22974</th>\n",
       "      <td>22975</td>\n",
       "      <td>210000</td>\n",
       "      <td>32</td>\n",
       "      <td>355</td>\n",
       "      <td>975</td>\n",
       "      <td>410</td>\n",
       "      <td>0</td>\n",
       "      <td>0</td>\n",
       "      <td>0</td>\n",
       "      <td>979</td>\n",
       "      <td>...</td>\n",
       "      <td>0</td>\n",
       "      <td>1</td>\n",
       "      <td>0</td>\n",
       "      <td>0</td>\n",
       "      <td>0</td>\n",
       "      <td>0</td>\n",
       "      <td>0</td>\n",
       "      <td>0</td>\n",
       "      <td>0</td>\n",
       "      <td>0</td>\n",
       "    </tr>\n",
       "    <tr>\n",
       "      <th>17535</th>\n",
       "      <td>17536</td>\n",
       "      <td>190000</td>\n",
       "      <td>45</td>\n",
       "      <td>76433</td>\n",
       "      <td>78472</td>\n",
       "      <td>80548</td>\n",
       "      <td>81778</td>\n",
       "      <td>83082</td>\n",
       "      <td>84811</td>\n",
       "      <td>3300</td>\n",
       "      <td>...</td>\n",
       "      <td>0</td>\n",
       "      <td>0</td>\n",
       "      <td>0</td>\n",
       "      <td>1</td>\n",
       "      <td>0</td>\n",
       "      <td>0</td>\n",
       "      <td>0</td>\n",
       "      <td>0</td>\n",
       "      <td>0</td>\n",
       "      <td>0</td>\n",
       "    </tr>\n",
       "  </tbody>\n",
       "</table>\n",
       "<p>5 rows × 82 columns</p>\n",
       "</div>"
      ],
      "text/plain": [
       "          ID  LIMIT_BAL  AGE  BILL_AMT1  BILL_AMT2  BILL_AMT3  BILL_AMT4  \\\n",
       "641      642     130000   28     100143      50456      50000          0   \n",
       "4678    4679     170000   29     165027     168990     172307      35234   \n",
       "16004  16005     180000   29      25781      26000      26310      26662   \n",
       "22974  22975     210000   32        355        975        410          0   \n",
       "17535  17536     190000   45      76433      78472      80548      81778   \n",
       "\n",
       "       BILL_AMT5  BILL_AMT6  PAY_AMT1  ...  PAY_5_7  PAY_6_-2  PAY_6_-1  \\\n",
       "641            0          0      2500  ...        0         1         0   \n",
       "4678       32869      33862      7200  ...        0         0         0   \n",
       "16004      26166      26176      1800  ...        0         0         0   \n",
       "22974          0          0       979  ...        0         1         0   \n",
       "17535      83082      84811      3300  ...        0         0         0   \n",
       "\n",
       "       PAY_6_0  PAY_6_2  PAY_6_3  PAY_6_4  PAY_6_5  PAY_6_6  PAY_6_7  \n",
       "641          0        0        0        0        0        0        0  \n",
       "4678         1        0        0        0        0        0        0  \n",
       "16004        1        0        0        0        0        0        0  \n",
       "22974        0        0        0        0        0        0        0  \n",
       "17535        1        0        0        0        0        0        0  \n",
       "\n",
       "[5 rows x 82 columns]"
      ]
     },
     "execution_count": 40,
     "metadata": {},
     "output_type": "execute_result"
    }
   ],
   "source": [
    "X_encoded = pd.get_dummies(X, columns = ['SEX',\n",
    "                                        'EDUCATION',\n",
    "                                        'MARRIAGE',\n",
    "                                        'PAY_0',\n",
    "                                        'PAY_2',\n",
    "                                        'PAY_3',\n",
    "                                        'PAY_4',\n",
    "                                        'PAY_5',\n",
    "                                        'PAY_6'])\n",
    "X_encoded.head()"
   ]
  },
  {
   "cell_type": "markdown",
   "id": "8227c02d",
   "metadata": {},
   "source": [
    "## Part 3: Centering and Scaling\n",
    "\n",
    "The **Radial Basis Function (RBF)** that we will use with our SVM assumes that the data are centered and scaled. In other words, each column should have a mean value = 0 and a standard deviation = 1. We need to then standardized each column in both the training and testing datasets.\n",
    "\n",
    "**NOTE**: We split the data into trainign and testing datasets and then scale them separately to avoid **Data Leakage**. This occurs when information about the trainign dataset corrupts or influences the testing dataset."
   ]
  },
  {
   "cell_type": "code",
   "execution_count": 44,
   "id": "f549388e",
   "metadata": {},
   "outputs": [
    {
     "data": {
      "text/plain": [
       "array([[ 0.68027283,  1.06764453,  0.66459398, ...,  0.        ,\n",
       "        -0.0365392 , -0.05170877],\n",
       "       [ 0.34369219,  0.11806446, -0.8151    , ...,  0.        ,\n",
       "        -0.0365392 , -0.05170877],\n",
       "       [-0.43654194, -0.51498893, -0.92079242, ...,  0.        ,\n",
       "        -0.0365392 , -0.05170877],\n",
       "       ...,\n",
       "       [ 0.94662663,  1.22590788, -0.39233029, ...,  0.        ,\n",
       "        -0.0365392 , -0.05170877],\n",
       "       [-0.154364  , -0.27759391,  1.61582582, ...,  0.        ,\n",
       "        -0.0365392 , -0.05170877],\n",
       "       [-0.60644932, -1.06891064, -1.34356213, ...,  0.        ,\n",
       "        -0.0365392 , -0.05170877]])"
      ]
     },
     "execution_count": 44,
     "metadata": {},
     "output_type": "execute_result"
    }
   ],
   "source": [
    "X_train, X_test, y_train, y_test = train_test_split(X_encoded, y, random_state = 42)\n",
    "\n",
    "X_train_scaled = scale(X_train) # outputs an array of arrays for each column with the values\n",
    "X_test_scaled = scale(X_train) # we should use the mean and standard deviation from the training dataset\n",
    "\n",
    "X_train_scaled"
   ]
  },
  {
   "cell_type": "markdown",
   "id": "4f02c23d",
   "metadata": {},
   "source": [
    "# D. Build a Preliminary Support Vector Machine\n",
    "\n",
    "We can now test a first attemp at building our SVM:"
   ]
  },
  {
   "cell_type": "code",
   "execution_count": 46,
   "id": "2d9cd956",
   "metadata": {},
   "outputs": [
    {
     "data": {
      "text/plain": [
       "SVC(random_state=42)"
      ]
     },
     "execution_count": 46,
     "metadata": {},
     "output_type": "execute_result"
    }
   ],
   "source": [
    "clf_svm = SVC(random_state = 42) # create the instance of the model\n",
    "clf_svm.fit(X_train_scaled, y_train)"
   ]
  },
  {
   "cell_type": "markdown",
   "id": "254caf5f",
   "metadata": {},
   "source": [
    "Let's see how it performs on the **Testing Dataset** and draw a **Confusion Matrix**"
   ]
  },
  {
   "cell_type": "code",
   "execution_count": 48,
   "id": "e6e62d68",
   "metadata": {},
   "outputs": [
    {
     "name": "stderr",
     "output_type": "stream",
     "text": [
      "/home/goncalo/miniconda3/lib/python3.9/site-packages/sklearn/utils/deprecation.py:87: FutureWarning: Function plot_confusion_matrix is deprecated; Function `plot_confusion_matrix` is deprecated in 1.0 and will be removed in 1.2. Use one of the class methods: ConfusionMatrixDisplay.from_predictions or ConfusionMatrixDisplay.from_estimator.\n",
      "  warnings.warn(msg, category=FutureWarning)\n"
     ]
    },
    {
     "data": {
      "text/plain": [
       "<sklearn.metrics._plot.confusion_matrix.ConfusionMatrixDisplay at 0x7fb8a4621d30>"
      ]
     },
     "execution_count": 48,
     "metadata": {},
     "output_type": "execute_result"
    },
    {
     "data": {
      "image/png": "[encoded data removed]",
      "text/plain": [
       "<Figure size 432x288 with 2 Axes>"
      ]
     },
     "metadata": {
      "needs_background": "light"
     },
     "output_type": "display_data"
    }
   ],
   "source": [
    "plot_confusion_matrix(clf_svm,\n",
    "                    X_test_scaled,\n",
    "                    y_test,\n",
    "                    values_format='d',\n",
    "                    display_labels=['Did not default','Defaulted'])"
   ]
  },
  {
   "cell_type": "markdown",
   "id": "171eebb6",
   "metadata": {},
   "source": [
    "We see that 257 people that did not default, 201 (79%) were correctly classified and that of the 243 people that defaulted, 148 (61%) were correctly classified. Now let's attempt to do better. To improve the predictions, let's use cross validations to optimize the parameters."
   ]
  },
  {
   "cell_type": "markdown",
   "id": "682a9a68",
   "metadata": {},
   "source": [
    "# E. Optimize Parameters with Cross Validation and GridSearchCV()"
   ]
  },
  {
   "cell_type": "markdown",
   "id": "d4859781",
   "metadata": {},
   "source": [
    "Optimizing a **Support Vector Machine** is all about finding the best value for **gamma**, and, potentially, the regularization parameter, **C**. So let's see if we can find better parameters values using cross validation in hope that we can improve the accuracy with the testing dataset.\n",
    "\n",
    "Since we have two parameters to optimize, we will use **GridSearchCV()**. We specify multiple potential values for **gamma** and **C**, and GridSearchCV() tests all possible combinations of the parameters for us."
   ]
  },
  {
   "cell_type": "code",
   "execution_count": 52,
   "id": "0ca96573",
   "metadata": {},
   "outputs": [
    {
     "name": "stdout",
     "output_type": "stream",
     "text": [
      "{'C': 100, 'gamma': 0.001, 'kernel': 'rbf'}\n"
     ]
    }
   ],
   "source": [
    "param_grid = [\n",
    "    {'C': [0.5, 1, 10, 100], # NOTE: Values for C > 0\n",
    "    'gamma': ['scale', 1, 0.1, 0.01, 0.001, 0.0001],\n",
    "    'kernel': ['rbf']}\n",
    "]\n",
    "\n",
    "# Note: We are including C = 1 and gamma = 'scale' as possible choices since they are the default values\n",
    "\n",
    "optimal_params = GridSearchCV(\n",
    "        SVC(),\n",
    "        param_grid,\n",
    "        cv = 5,\n",
    "        scoring = 'accuracy',\n",
    "        verbose = 0 # Note: if you want to see what Grid Search is doing, set verbose = 2\n",
    ") ## accuracy is default scoring - try others\n",
    "\n",
    "optimal_params.fit(X_train_scaled, y_train)\n",
    "print(optimal_params.best_params_)"
   ]
  },
  {
   "cell_type": "markdown",
   "id": "042ec5cb",
   "metadata": {},
   "source": [
    "We see that the ideal value for C = 100, which means we will use regularization, and the ideal value for gamma = 0.001"
   ]
  },
  {
   "cell_type": "markdown",
   "id": "4e4d3db9",
   "metadata": {},
   "source": [
    "# F. Building, Evaluating, Drawing and Interpreting the Final SVM"
   ]
  },
  {
   "cell_type": "code",
   "execution_count": 53,
   "id": "0165dac0",
   "metadata": {},
   "outputs": [
    {
     "data": {
      "text/plain": [
       "SVC(C=100, gamma=0.001, random_state=42)"
      ]
     },
     "execution_count": 53,
     "metadata": {},
     "output_type": "execute_result"
    }
   ],
   "source": [
    "clf_svm = SVC(random_state = 42, C = 100, gamma = 0.001)\n",
    "clf_svm.fit(X_train_scaled, y_train)"
   ]
  },
  {
   "cell_type": "code",
   "execution_count": 54,
   "id": "0e35d6e0",
   "metadata": {},
   "outputs": [
    {
     "name": "stderr",
     "output_type": "stream",
     "text": [
      "/home/goncalo/miniconda3/lib/python3.9/site-packages/sklearn/utils/deprecation.py:87: FutureWarning: Function plot_confusion_matrix is deprecated; Function `plot_confusion_matrix` is deprecated in 1.0 and will be removed in 1.2. Use one of the class methods: ConfusionMatrixDisplay.from_predictions or ConfusionMatrixDisplay.from_estimator.\n",
      "  warnings.warn(msg, category=FutureWarning)\n"
     ]
    },
    {
     "data": {
      "text/plain": [
       "<sklearn.metrics._plot.confusion_matrix.ConfusionMatrixDisplay at 0x7fb8a47a3160>"
      ]
     },
     "execution_count": 54,
     "metadata": {},
     "output_type": "execute_result"
    },
    {
     "data": {
      "image/png": "[encoded data removed]",
      "text/plain": [
       "<Figure size 432x288 with 2 Axes>"
      ]
     },
     "metadata": {
      "needs_background": "light"
     },
     "output_type": "display_data"
    }
   ],
   "source": [
    "plot_confusion_matrix(clf_svm,\n",
    "                     X_test_scaled,\n",
    "                     y_test,\n",
    "                     values_format='d',\n",
    "                     display_labels = ['Did not default','Defaulted'])"
   ]
  },
  {
   "cell_type": "markdown",
   "id": "3cfb76d8",
   "metadata": {},
   "source": [
    "As we see, these values from the **optimized SVM** are slightly better than before. Thus, the SVM was pretty good straight out of the box without much optimization and this is what makes SVMs a great and quick method for relatively small datasets.\n",
    "\n",
    "The last thing we are going to draw is a support vecotr machine decision boundary and interpret it. The first thing we need to do is count the number of columns in X:"
   ]
  },
  {
   "cell_type": "code",
   "execution_count": 72,
   "id": "9b874fe9",
   "metadata": {},
   "outputs": [
    {
     "data": {
      "text/plain": [
       "Index(['ID', 'LIMIT_BAL', 'SEX', 'EDUCATION', 'MARRIAGE', 'AGE', 'PAY_0',\n",
       "       'PAY_2', 'PAY_3', 'PAY_4', 'PAY_5', 'PAY_6', 'BILL_AMT1', 'BILL_AMT2',\n",
       "       'BILL_AMT3', 'BILL_AMT4', 'BILL_AMT5', 'BILL_AMT6', 'PAY_AMT1',\n",
       "       'PAY_AMT2', 'PAY_AMT3', 'PAY_AMT4', 'PAY_AMT5', 'PAY_AMT6', 'DEFAULT'],\n",
       "      dtype='object')"
      ]
     },
     "execution_count": 72,
     "metadata": {},
     "output_type": "execute_result"
    }
   ],
   "source": [
    "df_downsample.columns"
   ]
  },
  {
   "cell_type": "code",
   "execution_count": 73,
   "id": "99afcf76",
   "metadata": {},
   "outputs": [
    {
     "data": {
      "text/plain": [
       "24"
      ]
     },
     "execution_count": 73,
     "metadata": {},
     "output_type": "execute_result"
    }
   ],
   "source": [
    "len(df_downsample.drop('DEFAULT', axis=1).columns)"
   ]
  },
  {
   "cell_type": "markdown",
   "id": "c48d92ad",
   "metadata": {},
   "source": [
    "So we see that there are 24 features, or columns in **X**. This is a problem because it would require a 24-dimensional graph, one dimension per feature used to make predictions, to plot the data in its raw form. If we wanted to, we could just pick two features at random to use as x and y-axes on our graph, but instead, we can use the **PCA (Principal Analysis Component)** to combine the 24 features into two orthogonal meta-features that we can use as axes for a graph.\n",
    "\n",
    "However, before we shrink the graph, let's first detemine how accurate the shrunken graph will be. If it's relatively accurate, than it makes sense to draw the 2D graph. If not, the shrunken graph will not be very useful. To determine the accuracy of the graph we can draw a **scree plot**"
   ]
  },
  {
   "cell_type": "code",
   "execution_count": 74,
   "id": "e2767274",
   "metadata": {},
   "outputs": [
    {
     "data": {
      "image/png": "[encoded data removed]",
      "text/plain": [
       "<Figure size 1080x540 with 1 Axes>"
      ]
     },
     "metadata": {
      "needs_background": "light"
     },
     "output_type": "display_data"
    }
   ],
   "source": [
    "pca = PCA() # Note: By default, PCA() centers the data but does not scale it\n",
    "X_train_pca = pca.fit_transform(X_train_scaled)\n",
    "\n",
    "per_var = np.round(pca.explained_variance_ratio_* 100, decimals = 1)\n",
    "labels = [str(x) for x in range(1, len(per_var)+1)]\n",
    "\n",
    "plt.figure(figsize=(15, 7.5))\n",
    "plt.bar(x=range(1, len(per_var) +1), height=per_var)\n",
    "plt.tick_params(\n",
    "    axis='x', # changes apply to x-axis\n",
    "    which='both', # both major and minor ticks are affected\n",
    "    bottom=False, # ticks along the bottom edge are off\n",
    "    top=False, # ticks along the top edge are off\n",
    "    labelbottom=False) # labels along the bottom edge are off\n",
    "plt.ylabel('Percentage of Explained Variance')\n",
    "plt.xlabel('Principal Components')\n",
    "plt.title('Scree plot')\n",
    "plt.show()"
   ]
  },
  {
   "cell_type": "markdown",
   "id": "fd4d6d46",
   "metadata": {},
   "source": [
    "The scree plot shows that the first principal component, PC1, accounts for a relatively large amount of variation in the raw data, and this means that it will be a good candidate for the x-axis in the 2D graph. However, PC2 is not much different from PC3 or PC4, which doesn't bode well for dimension reduction. So, we shouldn't expect our final graph to look as good as we wish it to be."
   ]
  },
  {
   "cell_type": "code",
   "execution_count": 75,
   "id": "6f15fcd3",
   "metadata": {},
   "outputs": [
    {
     "name": "stdout",
     "output_type": "stream",
     "text": [
      "{'C': 100, 'gamma': 0.001, 'kernel': 'rbf'}\n"
     ]
    }
   ],
   "source": [
    "train_pc1_coords = X_train_pca[:,0] # select PC1\n",
    "train_pc2_coords = X_train_pca[:,1] # select PC2\n",
    "\n",
    "# NOTE:\n",
    "# PC1 contains the x-axis coordinates of the data after PCA\n",
    "# PC2 contains the y-axis coordiantes fo the data after PCA\n",
    "\n",
    "## Now center and scale the PCs\n",
    "pca_train_scaled = scale(np.column_stack((train_pc1_coords, train_pc2_coords)))\n",
    "\n",
    "# Now we optimize the SVM fit to the x and y-axis coordinates\n",
    "# The different here is that instead of using the 24 features to train the data\n",
    "# we only select the 2 most important ones\n",
    "param_grid = [\n",
    "    {'C': [1, 10, 100, 1000], # NOTE: Values for C > 0\n",
    "    'gamma': ['scale', 1, 0.1, 0.01, 0.001, 0.0001],\n",
    "    'kernel': ['rbf']}\n",
    "]\n",
    "\n",
    "# Note: We are including C = 1 and gamma = 'scale' as possible choices since they are the default values\n",
    "\n",
    "optimal_params = GridSearchCV(\n",
    "        SVC(),\n",
    "        param_grid,\n",
    "        cv = 5,\n",
    "        scoring = 'accuracy',\n",
    "        verbose = 0 # Note: if you want to see what Grid Search is doing, set verbose = 2\n",
    ") ## accuracy is default scoring - try others\n",
    "\n",
    "\n",
    "optimal_params.fit(X_train_scaled, y_train)\n",
    "print(optimal_params.best_params_)"
   ]
  },
  {
   "cell_type": "markdown",
   "id": "a6e7b8c5",
   "metadata": {},
   "source": [
    "Finally, plot the graph with the optimal values for C and gamma:"
   ]
  },
  {
   "cell_type": "code",
   "execution_count": 88,
   "id": "730c0c35",
   "metadata": {},
   "outputs": [
    {
     "data": {
      "text/plain": [
       "<function matplotlib.pyplot.show(close=None, block=None)>"
      ]
     },
     "execution_count": 88,
     "metadata": {},
     "output_type": "execute_result"
    },
    {
     "data": {
      "image/png": "[encoded data removed]",
      "text/plain": [
       "<Figure size 720x720 with 1 Axes>"
      ]
     },
     "metadata": {
      "needs_background": "light"
     },
     "output_type": "display_data"
    }
   ],
   "source": [
    "clf_svm = SVC(random_state=42, C = 1000, gamma = 0.001)\n",
    "clf_svm.fit(pca_train_scaled, y_train)\n",
    "\n",
    "## Transform the test dataset with the PCA\n",
    "X_test_pca = pca.transform(X_train_scaled) # for train dataset\n",
    "#X_test_pca = pca.transform(X_test_scaled) # for test dataset\n",
    "\n",
    "test_pc1_coords = X_test_pca[:,0] # select PC1\n",
    "test_pc2_coords = X_test_pca[:,1] # select PC2\n",
    "\n",
    "## Now create a matrix of points that we can use to show the decision regions\n",
    "## The matrix will be slightly larger than the transformed PCA points so that\n",
    "## we can plot all of the PCA points on it without them being on the edge\n",
    "x_min = test_pc1_coords.min() -1 # limits for the matrix\n",
    "x_max = test_pc1_coords.max() +1\n",
    "y_min = test_pc2_coords.min() -1\n",
    "y_max = test_pc2_coords.max() +1\n",
    "\n",
    "xx, yy = np.meshgrid(np.arange(start=x_min, stop=x_max, step=0.1), # create the matrix\n",
    "                     np.arange(start=y_min, stop=y_max, step=0.1))\n",
    "\n",
    "## Now we classify every point in the matrix with the SVM\n",
    "## Points on one side of the classification boundary will get 0,\n",
    "## while points on the other side will get 1\n",
    "Z = clf_svm.predict(np.column_stack((xx.ravel(), yy.ravel())))\n",
    "## Z is just a long array of lots of 0s and 1s, which reflect how each point\n",
    "## in the mesh was classified.\n",
    "## We use reshape so that each classification (0 or 1) corresponds to\n",
    "## a specific point in the matrix\n",
    "Z = Z.reshape(xx.shape)\n",
    "\n",
    "fig, ax = plt.subplots(figsize=(10,10))\n",
    "ax.contourf(xx,yy, Z, alpha = 0.1)\n",
    "\n",
    "## Now create custom colors for the actual datapoints\n",
    "cmap = colors.ListedColormap(['#e41a1c', '#4daf4a'])\n",
    "## draw the actual data points - these will be colored by their\n",
    "## known (not predicted) classifications\n",
    "## Note: setting alpha = 0.7 let's us see if we are covering up a point\n",
    "scatter = ax.scatter(test_pc1_coords, test_pc2_coords, c = y_train, # for train dataset\n",
    "#scatter = ax.scatter(test_pc1_coords, test_pc2_coords, c= y_test, # for test dataset\n",
    "                    cmap=cmap,\n",
    "                    s=100,\n",
    "                    edgecolors='k', # k = black\n",
    "                    alpha = 0.7)\n",
    "\n",
    "## create a legend\n",
    "legend = ax.legend(scatter.legend_elements()[0],\n",
    "                  scatter.legend_elements()[1],\n",
    "                  loc = 'upper right')\n",
    "legend.get_texts()[0].set_text('No default')\n",
    "legend.get_texts()[1].set_text('Yes default')\n",
    "\n",
    "## Now add ais labels and titles\n",
    "ax.set_ylabel('PC2')\n",
    "ax.set_xlabel('PC1')\n",
    "ax.set_title('Decision surface using the PCA transformed features')\n",
    "plt.show"
   ]
  },
  {
   "cell_type": "markdown",
   "id": "41112910",
   "metadata": {},
   "source": [
    "That's it. We have the following:\n",
    "\n",
    "* **The pink part of the graph is the area where all datapoints will be predicted to have not defaulted.**\n",
    "* **The yellow part of the graph is the area where all datapoints will be predicted to have defaulted**\n",
    "* **The dots are datapoints in the training/testing dataset and are color coded by their known classifications: red is for those that did not default and green is for those that defaulted.**\n",
    "\n"
   ]
  },
  {
   "cell_type": "markdown",
   "id": "c778f2be",
   "metadata": {},
   "source": [
    "**NOTE**: The results here are for the training data, not the testing data, and thus, do not match the confusion matrices that we generated. Also, remember that for this picture, we only fit the SVM to the first two principal components instead of all the data, and thus, this is only an approximation of the true classifier. Lastly, because the skree plot showed that PC2 was not very different from PC3 or PC4, this is not a very good approximation, as both PC3 or PC4 would produce a similar result together with PC1."
   ]
  },
  {
   "cell_type": "code",
   "execution_count": null,
   "id": "15f65f72",
   "metadata": {},
   "outputs": [],
   "source": []
  }
 ],
 "metadata": {
  "kernelspec": {
   "display_name": "Python 3 (ipykernel)",
   "language": "python",
   "name": "python3"
  },
  "language_info": {
   "codemirror_mode": {
    "name": "ipython",
    "version": 3
   },
   "file_extension": ".py",
   "mimetype": "text/x-python",
   "name": "python",
   "nbconvert_exporter": "python",
   "pygments_lexer": "ipython3",
   "version": "3.9.5"
  }
 },
 "nbformat": 4,
 "nbformat_minor": 5
}
